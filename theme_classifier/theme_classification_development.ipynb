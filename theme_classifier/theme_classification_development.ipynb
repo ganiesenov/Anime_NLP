{
 "cells": [
  {
   "cell_type": "code",
   "execution_count": 112,
   "metadata": {},
   "outputs": [],
   "source": [
    "from transformers import pipeline \n",
    "from nltk import sent_tokenize\n",
    "import nltk \n",
    "import torch\n",
    "from glob import glob\n",
    "import pandas as pd"
   ]
  },
  {
   "cell_type": "code",
   "execution_count": 4,
   "metadata": {},
   "outputs": [
    {
     "name": "stderr",
     "output_type": "stream",
     "text": [
      "[nltk_data] Downloading package punkt to\n",
      "[nltk_data]     C:\\Users\\Gani\\AppData\\Roaming\\nltk_data...\n",
      "[nltk_data]   Package punkt is already up-to-date!\n"
     ]
    },
    {
     "data": {
      "text/plain": [
       "True"
      ]
     },
     "execution_count": 4,
     "metadata": {},
     "output_type": "execute_result"
    }
   ],
   "source": [
    "\n",
    "nltk.download('punkt')"
   ]
  },
  {
   "cell_type": "markdown",
   "metadata": {},
   "source": [
    "# Load model"
   ]
  },
  {
   "cell_type": "code",
   "execution_count": 26,
   "metadata": {},
   "outputs": [],
   "source": [
    "model_name = \"facebook/bart-large-mnli\"\n",
    "device = 0 if torch.cuda.is_available() else 'cpu'"
   ]
  },
  {
   "cell_type": "code",
   "execution_count": 33,
   "metadata": {},
   "outputs": [],
   "source": [
    "def load_model(device): \n",
    "    theme_classifier = pipeline('zero-shot-classification', \n",
    "                                model=\"facebook/bart-large-mnli\",\n",
    "                                device=0)\n",
    "    return theme_classifier"
   ]
  },
  {
   "cell_type": "code",
   "execution_count": 34,
   "metadata": {},
   "outputs": [
    {
     "name": "stderr",
     "output_type": "stream",
     "text": [
      "c:\\Users\\Gani\\anaconda3\\envs\\nlp_anime\\Lib\\site-packages\\transformers\\tokenization_utils_base.py:1601: FutureWarning: `clean_up_tokenization_spaces` was not set. It will be set to `True` by default. This behavior will be depracted in transformers v4.45, and will be then set to `False` by default. For more details check this issue: https://github.com/huggingface/transformers/issues/31884\n",
      "  warnings.warn(\n"
     ]
    }
   ],
   "source": [
    "theme_classifier = load_model(device)"
   ]
  },
  {
   "cell_type": "code",
   "execution_count": 35,
   "metadata": {},
   "outputs": [],
   "source": [
    "themes = [\"friendship\", \"hope\", \"sacrifice\", \"battle\", \"self development\", \"betrayal\", \"love\", \"dialogue\"]\n"
   ]
  },
  {
   "cell_type": "code",
   "execution_count": 46,
   "metadata": {},
   "outputs": [
    {
     "data": {
      "text/plain": [
       "{'sequence': 'I gave him a right hook then a left jab',\n",
       " 'labels': ['battle',\n",
       "  'self development',\n",
       "  'hope',\n",
       "  'sacrifice',\n",
       "  'dialogue',\n",
       "  'betrayal',\n",
       "  'love',\n",
       "  'friendship'],\n",
       " 'scores': [0.9121260046958923,\n",
       "  0.47499924898147583,\n",
       "  0.08781825006008148,\n",
       "  0.04499973729252815,\n",
       "  0.02013293467462063,\n",
       "  0.012040339410305023,\n",
       "  0.004292357712984085,\n",
       "  0.0028172177262604237]}"
      ]
     },
     "execution_count": 46,
     "metadata": {},
     "output_type": "execute_result"
    }
   ],
   "source": [
    "theme_classifier(\n",
    "    \"I gave him a right hook then a left jab\",\n",
    "    themes,\n",
    "    multi_label=True\n",
    ")\n"
   ]
  },
  {
   "cell_type": "markdown",
   "metadata": {},
   "source": [
    "# Load dataset"
   ]
  },
  {
   "cell_type": "code",
   "execution_count": 65,
   "metadata": {},
   "outputs": [
    {
     "name": "stdout",
     "output_type": "stream",
     "text": [
      "Текущая директория: c:\\Users\\Gani\\Desktop\\my_projects\\Anime_NLP\n",
      "Путь существует: True\n",
      "\n",
      "Содержимое директории:\n",
      "Naruto Season 1 - 01.ass\n",
      "Naruto Season 1 - 02.ass\n",
      "Naruto Season 1 - 03.ass\n",
      "Naruto Season 1 - 04.ass\n",
      "Naruto Season 1 - 05.ass\n",
      "Naruto Season 1 - 06.ass\n",
      "Naruto Season 1 - 07.ass\n",
      "Naruto Season 1 - 08.ass\n",
      "Naruto Season 1 - 09.ass\n",
      "Naruto Season 1 - 10.srt\n",
      "Naruto Season 1 - 11.srt\n",
      "Naruto Season 1 - 12.ass\n",
      "Naruto Season 1 - 13.ass\n",
      "Naruto Season 1 - 14.ass\n",
      "Naruto Season 1 - 15.ass\n",
      "Naruto Season 1 - 16.ass\n",
      "Naruto Season 1 - 17.ass\n",
      "Naruto Season 1 - 18.ass\n",
      "Naruto Season 1 - 19.ass\n",
      "Naruto Season 1 - 20.ass\n",
      "Naruto Season 1 - 21.ass\n",
      "Naruto Season 1 - 22.ass\n",
      "Naruto Season 1 - 23.ass\n",
      "Naruto Season 1 - 24.ass\n",
      "Naruto Season 1 - 25.ass\n",
      "Naruto Season 1 - 26.ass\n",
      "Naruto Season 2 - 27.ass\n",
      "Naruto Season 2 - 28.ass\n",
      "Naruto Season 2 - 29.ass\n",
      "Naruto Season 2 - 30.ass\n",
      "Naruto Season 2 - 31.ass\n",
      "Naruto Season 2 - 32.ass\n",
      "Naruto Season 2 - 33.ass\n",
      "Naruto Season 2 - 34.ass\n",
      "Naruto Season 2 - 35.ass\n",
      "Naruto Season 2 - 36.ass\n",
      "Naruto Season 2 - 37.ass\n",
      "Naruto Season 2 - 38.ass\n",
      "Naruto Season 2 - 39.ass\n",
      "Naruto Season 2 - 40.ass\n",
      "Naruto Season 2 - 41.ass\n",
      "Naruto Season 2 - 42.ass\n",
      "Naruto Season 2 - 43.ass\n",
      "Naruto Season 2 - 44.ass\n",
      "Naruto Season 2 - 45.ass\n",
      "Naruto Season 2 - 46.ass\n",
      "Naruto Season 2 - 47.ass\n",
      "Naruto Season 2 - 48.ass\n",
      "Naruto Season 2 - 49.ass\n",
      "Naruto Season 2 - 50.ass\n",
      "Naruto Season 2 - 51.ass\n",
      "Naruto Season 2 - 52.ass\n",
      "Naruto Season 3 - 53.ass\n",
      "Naruto Season 3 - 54.ass\n",
      "Naruto Season 3 - 55.ass\n",
      "Naruto Season 3 - 56.ass\n",
      "Naruto Season 3 - 57.ass\n",
      "Naruto Season 3 - 58.ass\n",
      "Naruto Season 3 - 59.ass\n",
      "Naruto Season 3 - 60.ass\n",
      "Naruto Season 3 - 61.ass\n",
      "Naruto Season 3 - 62.ass\n",
      "Naruto Season 3 - 63.ass\n",
      "Naruto Season 3 - 64.ass\n",
      "Naruto Season 3 - 65.ass\n",
      "Naruto Season 3 - 66.ass\n",
      "Naruto Season 3 - 67.ass\n",
      "Naruto Season 3 - 68.ass\n",
      "Naruto Season 3 - 69.ass\n",
      "Naruto Season 3 - 70.ass\n",
      "Naruto Season 3 - 71.ass\n",
      "Naruto Season 3 - 72.ass\n",
      "Naruto Season 3 - 73.ass\n",
      "Naruto Season 3 - 74.ass\n",
      "Naruto Season 3 - 75.ass\n",
      "Naruto Season 3 - 76.ass\n",
      "Naruto Season 3 - 77.ass\n",
      "Naruto Season 3 - 78.ass\n",
      "Naruto Season 4 - 100.ass\n",
      "Naruto Season 4 - 101.ass\n",
      "Naruto Season 4 - 102.ass\n",
      "Naruto Season 4 - 103.ass\n",
      "Naruto Season 4 - 104.ass\n",
      "Naruto Season 4 - 79.ass\n",
      "Naruto Season 4 - 80.ass\n",
      "Naruto Season 4 - 81.ass\n",
      "Naruto Season 4 - 82.ass\n",
      "Naruto Season 4 - 83.ass\n",
      "Naruto Season 4 - 84.ass\n",
      "Naruto Season 4 - 85.ass\n",
      "Naruto Season 4 - 86.ass\n",
      "Naruto Season 4 - 87.ass\n",
      "Naruto Season 4 - 88.ass\n",
      "Naruto Season 4 - 89.ass\n",
      "Naruto Season 4 - 90.ass\n",
      "Naruto Season 4 - 91.ass\n",
      "Naruto Season 4 - 92.ass\n",
      "Naruto Season 4 - 93.ass\n",
      "Naruto Season 4 - 94.ass\n",
      "Naruto Season 4 - 95.ass\n",
      "Naruto Season 4 - 96.ass\n",
      "Naruto Season 4 - 97.ass\n",
      "Naruto Season 4 - 98.ass\n",
      "Naruto Season 4 - 99.ass\n",
      "Naruto Season 5 - 105.ass\n",
      "Naruto Season 5 - 106.ass\n",
      "Naruto Season 5 - 107.ass\n",
      "Naruto Season 5 - 108.ass\n",
      "Naruto Season 5 - 109.ass\n",
      "Naruto Season 5 - 110.ass\n",
      "Naruto Season 5 - 111.ass\n",
      "Naruto Season 5 - 112.ass\n",
      "Naruto Season 5 - 113.ass\n",
      "Naruto Season 5 - 114.ass\n",
      "Naruto Season 5 - 115.ass\n",
      "Naruto Season 5 - 116.ass\n",
      "Naruto Season 5 - 117.ass\n",
      "Naruto Season 5 - 118.ass\n",
      "Naruto Season 5 - 119.ass\n",
      "Naruto Season 5 - 120.ass\n",
      "Naruto Season 5 - 121.ass\n",
      "Naruto Season 5 - 122.ass\n",
      "Naruto Season 5 - 123.ass\n",
      "Naruto Season 5 - 124.ass\n",
      "Naruto Season 5 - 125.ass\n",
      "Naruto Season 5 - 126.ass\n",
      "Naruto Season 5 - 127.ass\n",
      "Naruto Season 5 - 128.ass\n",
      "Naruto Season 5 - 129.ass\n",
      "Naruto Season 5 - 130.ass\n",
      "Naruto Season 6 - 131.ass\n",
      "Naruto Season 6 - 132.ass\n",
      "Naruto Season 6 - 133.ass\n",
      "Naruto Season 6 - 134.ass\n",
      "Naruto Season 6 - 135.ass\n",
      "Naruto Season 6 - 136.ass\n",
      "Naruto Season 6 - 137.ass\n",
      "Naruto Season 6 - 138.ass\n",
      "Naruto Season 6 - 139.ass\n",
      "Naruto Season 6 - 140.ass\n",
      "Naruto Season 6 - 141.ass\n",
      "Naruto Season 6 - 142.ass\n",
      "Naruto Season 6 - 143.ass\n",
      "Naruto Season 6 - 144.ass\n",
      "Naruto Season 6 - 145.ass\n",
      "Naruto Season 6 - 146.ass\n",
      "Naruto Season 6 - 147.ass\n",
      "Naruto Season 6 - 148.ass\n",
      "Naruto Season 6 - 149.ass\n",
      "Naruto Season 6 - 150.ass\n",
      "Naruto Season 6 - 151.ass\n",
      "Naruto Season 6 - 152.ass\n",
      "Naruto Season 6 - 153.ass\n",
      "Naruto Season 6 - 154.ass\n",
      "Naruto Season 6 - 155.ass\n",
      "Naruto Season 6 - 156.ass\n",
      "Naruto Season 7 - 157.ass\n",
      "Naruto Season 7 - 158.ass\n",
      "Naruto Season 7 - 159.ass\n",
      "Naruto Season 7 - 160.ass\n",
      "Naruto Season 7 - 161.ass\n",
      "Naruto Season 7 - 162.ass\n",
      "Naruto Season 7 - 163.ass\n",
      "Naruto Season 7 - 164.ass\n",
      "Naruto Season 7 - 165.ass\n",
      "Naruto Season 7 - 166.ass\n",
      "Naruto Season 7 - 167.ass\n",
      "Naruto Season 7 - 168.ass\n",
      "Naruto Season 7 - 169.ass\n",
      "Naruto Season 7 - 170.ass\n",
      "Naruto Season 7 - 171.ass\n",
      "Naruto Season 7 - 172.ass\n",
      "Naruto Season 7 - 173.ass\n",
      "Naruto Season 7 - 174.ass\n",
      "Naruto Season 7 - 175.ass\n",
      "Naruto Season 7 - 176.ass\n",
      "Naruto Season 7 - 177.ass\n",
      "Naruto Season 7 - 178.ass\n",
      "Naruto Season 7 - 179.ass\n",
      "Naruto Season 7 - 180.ass\n",
      "Naruto Season 7 - 181.ass\n",
      "Naruto Season 7 - 182.ass\n",
      "Naruto Season 8 - 183.ass\n",
      "Naruto Season 8 - 184.ass\n",
      "Naruto Season 8 - 185.ass\n",
      "Naruto Season 8 - 186.ass\n",
      "Naruto Season 8 - 187.ass\n",
      "Naruto Season 8 - 188.ass\n",
      "Naruto Season 8 - 189.ass\n",
      "Naruto Season 8 - 190.ass\n",
      "Naruto Season 8 - 191.ass\n",
      "Naruto Season 8 - 192.ass\n",
      "Naruto Season 8 - 193.ass\n",
      "Naruto Season 8 - 194.ass\n",
      "Naruto Season 8 - 195.ass\n",
      "Naruto Season 8 - 196.ass\n",
      "Naruto Season 8 - 197.ass\n",
      "Naruto Season 8 - 198.ass\n",
      "Naruto Season 8 - 199.ass\n",
      "Naruto Season 8 - 200.ass\n",
      "Naruto Season 8 - 201.ass\n",
      "Naruto Season 8 - 202.ass\n",
      "Naruto Season 8 - 203.ass\n",
      "Naruto Season 8 - 204.ass\n",
      "Naruto Season 8 - 205.ass\n",
      "Naruto Season 8 - 206.ass\n",
      "Naruto Season 8 - 207.ass\n",
      "Naruto Season 8 - 208.ass\n",
      "Naruto Season 9 - 209.ass\n",
      "Naruto Season 9 - 210.ass\n",
      "Naruto Season 9 - 211.ass\n",
      "Naruto Season 9 - 212.ass\n",
      "Naruto Season 9 - 213.ass\n",
      "Naruto Season 9 - 214.ass\n",
      "Naruto Season 9 - 215.ass\n",
      "Naruto Season 9 - 216.ass\n",
      "Naruto Season 9 - 217.ass\n",
      "Naruto Season 9 - 218.ass\n",
      "Naruto Season 9 - 219.ass\n",
      "Naruto Season 9 - 220.ass\n",
      "\n",
      "Найденные файлы: ['c:\\\\Users\\\\Gani\\\\Desktop\\\\my_projects\\\\Anime_NLP\\\\data\\\\Subtitles\\\\Naruto Season 1 - 01.ass', 'c:\\\\Users\\\\Gani\\\\Desktop\\\\my_projects\\\\Anime_NLP\\\\data\\\\Subtitles\\\\Naruto Season 1 - 02.ass', 'c:\\\\Users\\\\Gani\\\\Desktop\\\\my_projects\\\\Anime_NLP\\\\data\\\\Subtitles\\\\Naruto Season 1 - 03.ass', 'c:\\\\Users\\\\Gani\\\\Desktop\\\\my_projects\\\\Anime_NLP\\\\data\\\\Subtitles\\\\Naruto Season 1 - 04.ass', 'c:\\\\Users\\\\Gani\\\\Desktop\\\\my_projects\\\\Anime_NLP\\\\data\\\\Subtitles\\\\Naruto Season 1 - 05.ass', 'c:\\\\Users\\\\Gani\\\\Desktop\\\\my_projects\\\\Anime_NLP\\\\data\\\\Subtitles\\\\Naruto Season 1 - 06.ass', 'c:\\\\Users\\\\Gani\\\\Desktop\\\\my_projects\\\\Anime_NLP\\\\data\\\\Subtitles\\\\Naruto Season 1 - 07.ass', 'c:\\\\Users\\\\Gani\\\\Desktop\\\\my_projects\\\\Anime_NLP\\\\data\\\\Subtitles\\\\Naruto Season 1 - 08.ass', 'c:\\\\Users\\\\Gani\\\\Desktop\\\\my_projects\\\\Anime_NLP\\\\data\\\\Subtitles\\\\Naruto Season 1 - 09.ass', 'c:\\\\Users\\\\Gani\\\\Desktop\\\\my_projects\\\\Anime_NLP\\\\data\\\\Subtitles\\\\Naruto Season 1 - 12.ass', 'c:\\\\Users\\\\Gani\\\\Desktop\\\\my_projects\\\\Anime_NLP\\\\data\\\\Subtitles\\\\Naruto Season 1 - 13.ass', 'c:\\\\Users\\\\Gani\\\\Desktop\\\\my_projects\\\\Anime_NLP\\\\data\\\\Subtitles\\\\Naruto Season 1 - 14.ass', 'c:\\\\Users\\\\Gani\\\\Desktop\\\\my_projects\\\\Anime_NLP\\\\data\\\\Subtitles\\\\Naruto Season 1 - 15.ass', 'c:\\\\Users\\\\Gani\\\\Desktop\\\\my_projects\\\\Anime_NLP\\\\data\\\\Subtitles\\\\Naruto Season 1 - 16.ass', 'c:\\\\Users\\\\Gani\\\\Desktop\\\\my_projects\\\\Anime_NLP\\\\data\\\\Subtitles\\\\Naruto Season 1 - 17.ass', 'c:\\\\Users\\\\Gani\\\\Desktop\\\\my_projects\\\\Anime_NLP\\\\data\\\\Subtitles\\\\Naruto Season 1 - 18.ass', 'c:\\\\Users\\\\Gani\\\\Desktop\\\\my_projects\\\\Anime_NLP\\\\data\\\\Subtitles\\\\Naruto Season 1 - 19.ass', 'c:\\\\Users\\\\Gani\\\\Desktop\\\\my_projects\\\\Anime_NLP\\\\data\\\\Subtitles\\\\Naruto Season 1 - 20.ass', 'c:\\\\Users\\\\Gani\\\\Desktop\\\\my_projects\\\\Anime_NLP\\\\data\\\\Subtitles\\\\Naruto Season 1 - 21.ass', 'c:\\\\Users\\\\Gani\\\\Desktop\\\\my_projects\\\\Anime_NLP\\\\data\\\\Subtitles\\\\Naruto Season 1 - 22.ass', 'c:\\\\Users\\\\Gani\\\\Desktop\\\\my_projects\\\\Anime_NLP\\\\data\\\\Subtitles\\\\Naruto Season 1 - 23.ass', 'c:\\\\Users\\\\Gani\\\\Desktop\\\\my_projects\\\\Anime_NLP\\\\data\\\\Subtitles\\\\Naruto Season 1 - 24.ass', 'c:\\\\Users\\\\Gani\\\\Desktop\\\\my_projects\\\\Anime_NLP\\\\data\\\\Subtitles\\\\Naruto Season 1 - 25.ass', 'c:\\\\Users\\\\Gani\\\\Desktop\\\\my_projects\\\\Anime_NLP\\\\data\\\\Subtitles\\\\Naruto Season 1 - 26.ass', 'c:\\\\Users\\\\Gani\\\\Desktop\\\\my_projects\\\\Anime_NLP\\\\data\\\\Subtitles\\\\Naruto Season 2 - 27.ass', 'c:\\\\Users\\\\Gani\\\\Desktop\\\\my_projects\\\\Anime_NLP\\\\data\\\\Subtitles\\\\Naruto Season 2 - 28.ass', 'c:\\\\Users\\\\Gani\\\\Desktop\\\\my_projects\\\\Anime_NLP\\\\data\\\\Subtitles\\\\Naruto Season 2 - 29.ass', 'c:\\\\Users\\\\Gani\\\\Desktop\\\\my_projects\\\\Anime_NLP\\\\data\\\\Subtitles\\\\Naruto Season 2 - 30.ass', 'c:\\\\Users\\\\Gani\\\\Desktop\\\\my_projects\\\\Anime_NLP\\\\data\\\\Subtitles\\\\Naruto Season 2 - 31.ass', 'c:\\\\Users\\\\Gani\\\\Desktop\\\\my_projects\\\\Anime_NLP\\\\data\\\\Subtitles\\\\Naruto Season 2 - 32.ass', 'c:\\\\Users\\\\Gani\\\\Desktop\\\\my_projects\\\\Anime_NLP\\\\data\\\\Subtitles\\\\Naruto Season 2 - 33.ass', 'c:\\\\Users\\\\Gani\\\\Desktop\\\\my_projects\\\\Anime_NLP\\\\data\\\\Subtitles\\\\Naruto Season 2 - 34.ass', 'c:\\\\Users\\\\Gani\\\\Desktop\\\\my_projects\\\\Anime_NLP\\\\data\\\\Subtitles\\\\Naruto Season 2 - 35.ass', 'c:\\\\Users\\\\Gani\\\\Desktop\\\\my_projects\\\\Anime_NLP\\\\data\\\\Subtitles\\\\Naruto Season 2 - 36.ass', 'c:\\\\Users\\\\Gani\\\\Desktop\\\\my_projects\\\\Anime_NLP\\\\data\\\\Subtitles\\\\Naruto Season 2 - 37.ass', 'c:\\\\Users\\\\Gani\\\\Desktop\\\\my_projects\\\\Anime_NLP\\\\data\\\\Subtitles\\\\Naruto Season 2 - 38.ass', 'c:\\\\Users\\\\Gani\\\\Desktop\\\\my_projects\\\\Anime_NLP\\\\data\\\\Subtitles\\\\Naruto Season 2 - 39.ass', 'c:\\\\Users\\\\Gani\\\\Desktop\\\\my_projects\\\\Anime_NLP\\\\data\\\\Subtitles\\\\Naruto Season 2 - 40.ass', 'c:\\\\Users\\\\Gani\\\\Desktop\\\\my_projects\\\\Anime_NLP\\\\data\\\\Subtitles\\\\Naruto Season 2 - 41.ass', 'c:\\\\Users\\\\Gani\\\\Desktop\\\\my_projects\\\\Anime_NLP\\\\data\\\\Subtitles\\\\Naruto Season 2 - 42.ass', 'c:\\\\Users\\\\Gani\\\\Desktop\\\\my_projects\\\\Anime_NLP\\\\data\\\\Subtitles\\\\Naruto Season 2 - 43.ass', 'c:\\\\Users\\\\Gani\\\\Desktop\\\\my_projects\\\\Anime_NLP\\\\data\\\\Subtitles\\\\Naruto Season 2 - 44.ass', 'c:\\\\Users\\\\Gani\\\\Desktop\\\\my_projects\\\\Anime_NLP\\\\data\\\\Subtitles\\\\Naruto Season 2 - 45.ass', 'c:\\\\Users\\\\Gani\\\\Desktop\\\\my_projects\\\\Anime_NLP\\\\data\\\\Subtitles\\\\Naruto Season 2 - 46.ass', 'c:\\\\Users\\\\Gani\\\\Desktop\\\\my_projects\\\\Anime_NLP\\\\data\\\\Subtitles\\\\Naruto Season 2 - 47.ass', 'c:\\\\Users\\\\Gani\\\\Desktop\\\\my_projects\\\\Anime_NLP\\\\data\\\\Subtitles\\\\Naruto Season 2 - 48.ass', 'c:\\\\Users\\\\Gani\\\\Desktop\\\\my_projects\\\\Anime_NLP\\\\data\\\\Subtitles\\\\Naruto Season 2 - 49.ass', 'c:\\\\Users\\\\Gani\\\\Desktop\\\\my_projects\\\\Anime_NLP\\\\data\\\\Subtitles\\\\Naruto Season 2 - 50.ass', 'c:\\\\Users\\\\Gani\\\\Desktop\\\\my_projects\\\\Anime_NLP\\\\data\\\\Subtitles\\\\Naruto Season 2 - 51.ass', 'c:\\\\Users\\\\Gani\\\\Desktop\\\\my_projects\\\\Anime_NLP\\\\data\\\\Subtitles\\\\Naruto Season 2 - 52.ass', 'c:\\\\Users\\\\Gani\\\\Desktop\\\\my_projects\\\\Anime_NLP\\\\data\\\\Subtitles\\\\Naruto Season 3 - 53.ass', 'c:\\\\Users\\\\Gani\\\\Desktop\\\\my_projects\\\\Anime_NLP\\\\data\\\\Subtitles\\\\Naruto Season 3 - 54.ass', 'c:\\\\Users\\\\Gani\\\\Desktop\\\\my_projects\\\\Anime_NLP\\\\data\\\\Subtitles\\\\Naruto Season 3 - 55.ass', 'c:\\\\Users\\\\Gani\\\\Desktop\\\\my_projects\\\\Anime_NLP\\\\data\\\\Subtitles\\\\Naruto Season 3 - 56.ass', 'c:\\\\Users\\\\Gani\\\\Desktop\\\\my_projects\\\\Anime_NLP\\\\data\\\\Subtitles\\\\Naruto Season 3 - 57.ass', 'c:\\\\Users\\\\Gani\\\\Desktop\\\\my_projects\\\\Anime_NLP\\\\data\\\\Subtitles\\\\Naruto Season 3 - 58.ass', 'c:\\\\Users\\\\Gani\\\\Desktop\\\\my_projects\\\\Anime_NLP\\\\data\\\\Subtitles\\\\Naruto Season 3 - 59.ass', 'c:\\\\Users\\\\Gani\\\\Desktop\\\\my_projects\\\\Anime_NLP\\\\data\\\\Subtitles\\\\Naruto Season 3 - 60.ass', 'c:\\\\Users\\\\Gani\\\\Desktop\\\\my_projects\\\\Anime_NLP\\\\data\\\\Subtitles\\\\Naruto Season 3 - 61.ass', 'c:\\\\Users\\\\Gani\\\\Desktop\\\\my_projects\\\\Anime_NLP\\\\data\\\\Subtitles\\\\Naruto Season 3 - 62.ass', 'c:\\\\Users\\\\Gani\\\\Desktop\\\\my_projects\\\\Anime_NLP\\\\data\\\\Subtitles\\\\Naruto Season 3 - 63.ass', 'c:\\\\Users\\\\Gani\\\\Desktop\\\\my_projects\\\\Anime_NLP\\\\data\\\\Subtitles\\\\Naruto Season 3 - 64.ass', 'c:\\\\Users\\\\Gani\\\\Desktop\\\\my_projects\\\\Anime_NLP\\\\data\\\\Subtitles\\\\Naruto Season 3 - 65.ass', 'c:\\\\Users\\\\Gani\\\\Desktop\\\\my_projects\\\\Anime_NLP\\\\data\\\\Subtitles\\\\Naruto Season 3 - 66.ass', 'c:\\\\Users\\\\Gani\\\\Desktop\\\\my_projects\\\\Anime_NLP\\\\data\\\\Subtitles\\\\Naruto Season 3 - 67.ass', 'c:\\\\Users\\\\Gani\\\\Desktop\\\\my_projects\\\\Anime_NLP\\\\data\\\\Subtitles\\\\Naruto Season 3 - 68.ass', 'c:\\\\Users\\\\Gani\\\\Desktop\\\\my_projects\\\\Anime_NLP\\\\data\\\\Subtitles\\\\Naruto Season 3 - 69.ass', 'c:\\\\Users\\\\Gani\\\\Desktop\\\\my_projects\\\\Anime_NLP\\\\data\\\\Subtitles\\\\Naruto Season 3 - 70.ass', 'c:\\\\Users\\\\Gani\\\\Desktop\\\\my_projects\\\\Anime_NLP\\\\data\\\\Subtitles\\\\Naruto Season 3 - 71.ass', 'c:\\\\Users\\\\Gani\\\\Desktop\\\\my_projects\\\\Anime_NLP\\\\data\\\\Subtitles\\\\Naruto Season 3 - 72.ass', 'c:\\\\Users\\\\Gani\\\\Desktop\\\\my_projects\\\\Anime_NLP\\\\data\\\\Subtitles\\\\Naruto Season 3 - 73.ass', 'c:\\\\Users\\\\Gani\\\\Desktop\\\\my_projects\\\\Anime_NLP\\\\data\\\\Subtitles\\\\Naruto Season 3 - 74.ass', 'c:\\\\Users\\\\Gani\\\\Desktop\\\\my_projects\\\\Anime_NLP\\\\data\\\\Subtitles\\\\Naruto Season 3 - 75.ass', 'c:\\\\Users\\\\Gani\\\\Desktop\\\\my_projects\\\\Anime_NLP\\\\data\\\\Subtitles\\\\Naruto Season 3 - 76.ass', 'c:\\\\Users\\\\Gani\\\\Desktop\\\\my_projects\\\\Anime_NLP\\\\data\\\\Subtitles\\\\Naruto Season 3 - 77.ass', 'c:\\\\Users\\\\Gani\\\\Desktop\\\\my_projects\\\\Anime_NLP\\\\data\\\\Subtitles\\\\Naruto Season 3 - 78.ass', 'c:\\\\Users\\\\Gani\\\\Desktop\\\\my_projects\\\\Anime_NLP\\\\data\\\\Subtitles\\\\Naruto Season 4 - 100.ass', 'c:\\\\Users\\\\Gani\\\\Desktop\\\\my_projects\\\\Anime_NLP\\\\data\\\\Subtitles\\\\Naruto Season 4 - 101.ass', 'c:\\\\Users\\\\Gani\\\\Desktop\\\\my_projects\\\\Anime_NLP\\\\data\\\\Subtitles\\\\Naruto Season 4 - 102.ass', 'c:\\\\Users\\\\Gani\\\\Desktop\\\\my_projects\\\\Anime_NLP\\\\data\\\\Subtitles\\\\Naruto Season 4 - 103.ass', 'c:\\\\Users\\\\Gani\\\\Desktop\\\\my_projects\\\\Anime_NLP\\\\data\\\\Subtitles\\\\Naruto Season 4 - 104.ass', 'c:\\\\Users\\\\Gani\\\\Desktop\\\\my_projects\\\\Anime_NLP\\\\data\\\\Subtitles\\\\Naruto Season 4 - 79.ass', 'c:\\\\Users\\\\Gani\\\\Desktop\\\\my_projects\\\\Anime_NLP\\\\data\\\\Subtitles\\\\Naruto Season 4 - 80.ass', 'c:\\\\Users\\\\Gani\\\\Desktop\\\\my_projects\\\\Anime_NLP\\\\data\\\\Subtitles\\\\Naruto Season 4 - 81.ass', 'c:\\\\Users\\\\Gani\\\\Desktop\\\\my_projects\\\\Anime_NLP\\\\data\\\\Subtitles\\\\Naruto Season 4 - 82.ass', 'c:\\\\Users\\\\Gani\\\\Desktop\\\\my_projects\\\\Anime_NLP\\\\data\\\\Subtitles\\\\Naruto Season 4 - 83.ass', 'c:\\\\Users\\\\Gani\\\\Desktop\\\\my_projects\\\\Anime_NLP\\\\data\\\\Subtitles\\\\Naruto Season 4 - 84.ass', 'c:\\\\Users\\\\Gani\\\\Desktop\\\\my_projects\\\\Anime_NLP\\\\data\\\\Subtitles\\\\Naruto Season 4 - 85.ass', 'c:\\\\Users\\\\Gani\\\\Desktop\\\\my_projects\\\\Anime_NLP\\\\data\\\\Subtitles\\\\Naruto Season 4 - 86.ass', 'c:\\\\Users\\\\Gani\\\\Desktop\\\\my_projects\\\\Anime_NLP\\\\data\\\\Subtitles\\\\Naruto Season 4 - 87.ass', 'c:\\\\Users\\\\Gani\\\\Desktop\\\\my_projects\\\\Anime_NLP\\\\data\\\\Subtitles\\\\Naruto Season 4 - 88.ass', 'c:\\\\Users\\\\Gani\\\\Desktop\\\\my_projects\\\\Anime_NLP\\\\data\\\\Subtitles\\\\Naruto Season 4 - 89.ass', 'c:\\\\Users\\\\Gani\\\\Desktop\\\\my_projects\\\\Anime_NLP\\\\data\\\\Subtitles\\\\Naruto Season 4 - 90.ass', 'c:\\\\Users\\\\Gani\\\\Desktop\\\\my_projects\\\\Anime_NLP\\\\data\\\\Subtitles\\\\Naruto Season 4 - 91.ass', 'c:\\\\Users\\\\Gani\\\\Desktop\\\\my_projects\\\\Anime_NLP\\\\data\\\\Subtitles\\\\Naruto Season 4 - 92.ass', 'c:\\\\Users\\\\Gani\\\\Desktop\\\\my_projects\\\\Anime_NLP\\\\data\\\\Subtitles\\\\Naruto Season 4 - 93.ass', 'c:\\\\Users\\\\Gani\\\\Desktop\\\\my_projects\\\\Anime_NLP\\\\data\\\\Subtitles\\\\Naruto Season 4 - 94.ass', 'c:\\\\Users\\\\Gani\\\\Desktop\\\\my_projects\\\\Anime_NLP\\\\data\\\\Subtitles\\\\Naruto Season 4 - 95.ass', 'c:\\\\Users\\\\Gani\\\\Desktop\\\\my_projects\\\\Anime_NLP\\\\data\\\\Subtitles\\\\Naruto Season 4 - 96.ass', 'c:\\\\Users\\\\Gani\\\\Desktop\\\\my_projects\\\\Anime_NLP\\\\data\\\\Subtitles\\\\Naruto Season 4 - 97.ass', 'c:\\\\Users\\\\Gani\\\\Desktop\\\\my_projects\\\\Anime_NLP\\\\data\\\\Subtitles\\\\Naruto Season 4 - 98.ass', 'c:\\\\Users\\\\Gani\\\\Desktop\\\\my_projects\\\\Anime_NLP\\\\data\\\\Subtitles\\\\Naruto Season 4 - 99.ass', 'c:\\\\Users\\\\Gani\\\\Desktop\\\\my_projects\\\\Anime_NLP\\\\data\\\\Subtitles\\\\Naruto Season 5 - 105.ass', 'c:\\\\Users\\\\Gani\\\\Desktop\\\\my_projects\\\\Anime_NLP\\\\data\\\\Subtitles\\\\Naruto Season 5 - 106.ass', 'c:\\\\Users\\\\Gani\\\\Desktop\\\\my_projects\\\\Anime_NLP\\\\data\\\\Subtitles\\\\Naruto Season 5 - 107.ass', 'c:\\\\Users\\\\Gani\\\\Desktop\\\\my_projects\\\\Anime_NLP\\\\data\\\\Subtitles\\\\Naruto Season 5 - 108.ass', 'c:\\\\Users\\\\Gani\\\\Desktop\\\\my_projects\\\\Anime_NLP\\\\data\\\\Subtitles\\\\Naruto Season 5 - 109.ass', 'c:\\\\Users\\\\Gani\\\\Desktop\\\\my_projects\\\\Anime_NLP\\\\data\\\\Subtitles\\\\Naruto Season 5 - 110.ass', 'c:\\\\Users\\\\Gani\\\\Desktop\\\\my_projects\\\\Anime_NLP\\\\data\\\\Subtitles\\\\Naruto Season 5 - 111.ass', 'c:\\\\Users\\\\Gani\\\\Desktop\\\\my_projects\\\\Anime_NLP\\\\data\\\\Subtitles\\\\Naruto Season 5 - 112.ass', 'c:\\\\Users\\\\Gani\\\\Desktop\\\\my_projects\\\\Anime_NLP\\\\data\\\\Subtitles\\\\Naruto Season 5 - 113.ass', 'c:\\\\Users\\\\Gani\\\\Desktop\\\\my_projects\\\\Anime_NLP\\\\data\\\\Subtitles\\\\Naruto Season 5 - 114.ass', 'c:\\\\Users\\\\Gani\\\\Desktop\\\\my_projects\\\\Anime_NLP\\\\data\\\\Subtitles\\\\Naruto Season 5 - 115.ass', 'c:\\\\Users\\\\Gani\\\\Desktop\\\\my_projects\\\\Anime_NLP\\\\data\\\\Subtitles\\\\Naruto Season 5 - 116.ass', 'c:\\\\Users\\\\Gani\\\\Desktop\\\\my_projects\\\\Anime_NLP\\\\data\\\\Subtitles\\\\Naruto Season 5 - 117.ass', 'c:\\\\Users\\\\Gani\\\\Desktop\\\\my_projects\\\\Anime_NLP\\\\data\\\\Subtitles\\\\Naruto Season 5 - 118.ass', 'c:\\\\Users\\\\Gani\\\\Desktop\\\\my_projects\\\\Anime_NLP\\\\data\\\\Subtitles\\\\Naruto Season 5 - 119.ass', 'c:\\\\Users\\\\Gani\\\\Desktop\\\\my_projects\\\\Anime_NLP\\\\data\\\\Subtitles\\\\Naruto Season 5 - 120.ass', 'c:\\\\Users\\\\Gani\\\\Desktop\\\\my_projects\\\\Anime_NLP\\\\data\\\\Subtitles\\\\Naruto Season 5 - 121.ass', 'c:\\\\Users\\\\Gani\\\\Desktop\\\\my_projects\\\\Anime_NLP\\\\data\\\\Subtitles\\\\Naruto Season 5 - 122.ass', 'c:\\\\Users\\\\Gani\\\\Desktop\\\\my_projects\\\\Anime_NLP\\\\data\\\\Subtitles\\\\Naruto Season 5 - 123.ass', 'c:\\\\Users\\\\Gani\\\\Desktop\\\\my_projects\\\\Anime_NLP\\\\data\\\\Subtitles\\\\Naruto Season 5 - 124.ass', 'c:\\\\Users\\\\Gani\\\\Desktop\\\\my_projects\\\\Anime_NLP\\\\data\\\\Subtitles\\\\Naruto Season 5 - 125.ass', 'c:\\\\Users\\\\Gani\\\\Desktop\\\\my_projects\\\\Anime_NLP\\\\data\\\\Subtitles\\\\Naruto Season 5 - 126.ass', 'c:\\\\Users\\\\Gani\\\\Desktop\\\\my_projects\\\\Anime_NLP\\\\data\\\\Subtitles\\\\Naruto Season 5 - 127.ass', 'c:\\\\Users\\\\Gani\\\\Desktop\\\\my_projects\\\\Anime_NLP\\\\data\\\\Subtitles\\\\Naruto Season 5 - 128.ass', 'c:\\\\Users\\\\Gani\\\\Desktop\\\\my_projects\\\\Anime_NLP\\\\data\\\\Subtitles\\\\Naruto Season 5 - 129.ass', 'c:\\\\Users\\\\Gani\\\\Desktop\\\\my_projects\\\\Anime_NLP\\\\data\\\\Subtitles\\\\Naruto Season 5 - 130.ass', 'c:\\\\Users\\\\Gani\\\\Desktop\\\\my_projects\\\\Anime_NLP\\\\data\\\\Subtitles\\\\Naruto Season 6 - 131.ass', 'c:\\\\Users\\\\Gani\\\\Desktop\\\\my_projects\\\\Anime_NLP\\\\data\\\\Subtitles\\\\Naruto Season 6 - 132.ass', 'c:\\\\Users\\\\Gani\\\\Desktop\\\\my_projects\\\\Anime_NLP\\\\data\\\\Subtitles\\\\Naruto Season 6 - 133.ass', 'c:\\\\Users\\\\Gani\\\\Desktop\\\\my_projects\\\\Anime_NLP\\\\data\\\\Subtitles\\\\Naruto Season 6 - 134.ass', 'c:\\\\Users\\\\Gani\\\\Desktop\\\\my_projects\\\\Anime_NLP\\\\data\\\\Subtitles\\\\Naruto Season 6 - 135.ass', 'c:\\\\Users\\\\Gani\\\\Desktop\\\\my_projects\\\\Anime_NLP\\\\data\\\\Subtitles\\\\Naruto Season 6 - 136.ass', 'c:\\\\Users\\\\Gani\\\\Desktop\\\\my_projects\\\\Anime_NLP\\\\data\\\\Subtitles\\\\Naruto Season 6 - 137.ass', 'c:\\\\Users\\\\Gani\\\\Desktop\\\\my_projects\\\\Anime_NLP\\\\data\\\\Subtitles\\\\Naruto Season 6 - 138.ass', 'c:\\\\Users\\\\Gani\\\\Desktop\\\\my_projects\\\\Anime_NLP\\\\data\\\\Subtitles\\\\Naruto Season 6 - 139.ass', 'c:\\\\Users\\\\Gani\\\\Desktop\\\\my_projects\\\\Anime_NLP\\\\data\\\\Subtitles\\\\Naruto Season 6 - 140.ass', 'c:\\\\Users\\\\Gani\\\\Desktop\\\\my_projects\\\\Anime_NLP\\\\data\\\\Subtitles\\\\Naruto Season 6 - 141.ass', 'c:\\\\Users\\\\Gani\\\\Desktop\\\\my_projects\\\\Anime_NLP\\\\data\\\\Subtitles\\\\Naruto Season 6 - 142.ass', 'c:\\\\Users\\\\Gani\\\\Desktop\\\\my_projects\\\\Anime_NLP\\\\data\\\\Subtitles\\\\Naruto Season 6 - 143.ass', 'c:\\\\Users\\\\Gani\\\\Desktop\\\\my_projects\\\\Anime_NLP\\\\data\\\\Subtitles\\\\Naruto Season 6 - 144.ass', 'c:\\\\Users\\\\Gani\\\\Desktop\\\\my_projects\\\\Anime_NLP\\\\data\\\\Subtitles\\\\Naruto Season 6 - 145.ass', 'c:\\\\Users\\\\Gani\\\\Desktop\\\\my_projects\\\\Anime_NLP\\\\data\\\\Subtitles\\\\Naruto Season 6 - 146.ass', 'c:\\\\Users\\\\Gani\\\\Desktop\\\\my_projects\\\\Anime_NLP\\\\data\\\\Subtitles\\\\Naruto Season 6 - 147.ass', 'c:\\\\Users\\\\Gani\\\\Desktop\\\\my_projects\\\\Anime_NLP\\\\data\\\\Subtitles\\\\Naruto Season 6 - 148.ass', 'c:\\\\Users\\\\Gani\\\\Desktop\\\\my_projects\\\\Anime_NLP\\\\data\\\\Subtitles\\\\Naruto Season 6 - 149.ass', 'c:\\\\Users\\\\Gani\\\\Desktop\\\\my_projects\\\\Anime_NLP\\\\data\\\\Subtitles\\\\Naruto Season 6 - 150.ass', 'c:\\\\Users\\\\Gani\\\\Desktop\\\\my_projects\\\\Anime_NLP\\\\data\\\\Subtitles\\\\Naruto Season 6 - 151.ass', 'c:\\\\Users\\\\Gani\\\\Desktop\\\\my_projects\\\\Anime_NLP\\\\data\\\\Subtitles\\\\Naruto Season 6 - 152.ass', 'c:\\\\Users\\\\Gani\\\\Desktop\\\\my_projects\\\\Anime_NLP\\\\data\\\\Subtitles\\\\Naruto Season 6 - 153.ass', 'c:\\\\Users\\\\Gani\\\\Desktop\\\\my_projects\\\\Anime_NLP\\\\data\\\\Subtitles\\\\Naruto Season 6 - 154.ass', 'c:\\\\Users\\\\Gani\\\\Desktop\\\\my_projects\\\\Anime_NLP\\\\data\\\\Subtitles\\\\Naruto Season 6 - 155.ass', 'c:\\\\Users\\\\Gani\\\\Desktop\\\\my_projects\\\\Anime_NLP\\\\data\\\\Subtitles\\\\Naruto Season 6 - 156.ass', 'c:\\\\Users\\\\Gani\\\\Desktop\\\\my_projects\\\\Anime_NLP\\\\data\\\\Subtitles\\\\Naruto Season 7 - 157.ass', 'c:\\\\Users\\\\Gani\\\\Desktop\\\\my_projects\\\\Anime_NLP\\\\data\\\\Subtitles\\\\Naruto Season 7 - 158.ass', 'c:\\\\Users\\\\Gani\\\\Desktop\\\\my_projects\\\\Anime_NLP\\\\data\\\\Subtitles\\\\Naruto Season 7 - 159.ass', 'c:\\\\Users\\\\Gani\\\\Desktop\\\\my_projects\\\\Anime_NLP\\\\data\\\\Subtitles\\\\Naruto Season 7 - 160.ass', 'c:\\\\Users\\\\Gani\\\\Desktop\\\\my_projects\\\\Anime_NLP\\\\data\\\\Subtitles\\\\Naruto Season 7 - 161.ass', 'c:\\\\Users\\\\Gani\\\\Desktop\\\\my_projects\\\\Anime_NLP\\\\data\\\\Subtitles\\\\Naruto Season 7 - 162.ass', 'c:\\\\Users\\\\Gani\\\\Desktop\\\\my_projects\\\\Anime_NLP\\\\data\\\\Subtitles\\\\Naruto Season 7 - 163.ass', 'c:\\\\Users\\\\Gani\\\\Desktop\\\\my_projects\\\\Anime_NLP\\\\data\\\\Subtitles\\\\Naruto Season 7 - 164.ass', 'c:\\\\Users\\\\Gani\\\\Desktop\\\\my_projects\\\\Anime_NLP\\\\data\\\\Subtitles\\\\Naruto Season 7 - 165.ass', 'c:\\\\Users\\\\Gani\\\\Desktop\\\\my_projects\\\\Anime_NLP\\\\data\\\\Subtitles\\\\Naruto Season 7 - 166.ass', 'c:\\\\Users\\\\Gani\\\\Desktop\\\\my_projects\\\\Anime_NLP\\\\data\\\\Subtitles\\\\Naruto Season 7 - 167.ass', 'c:\\\\Users\\\\Gani\\\\Desktop\\\\my_projects\\\\Anime_NLP\\\\data\\\\Subtitles\\\\Naruto Season 7 - 168.ass', 'c:\\\\Users\\\\Gani\\\\Desktop\\\\my_projects\\\\Anime_NLP\\\\data\\\\Subtitles\\\\Naruto Season 7 - 169.ass', 'c:\\\\Users\\\\Gani\\\\Desktop\\\\my_projects\\\\Anime_NLP\\\\data\\\\Subtitles\\\\Naruto Season 7 - 170.ass', 'c:\\\\Users\\\\Gani\\\\Desktop\\\\my_projects\\\\Anime_NLP\\\\data\\\\Subtitles\\\\Naruto Season 7 - 171.ass', 'c:\\\\Users\\\\Gani\\\\Desktop\\\\my_projects\\\\Anime_NLP\\\\data\\\\Subtitles\\\\Naruto Season 7 - 172.ass', 'c:\\\\Users\\\\Gani\\\\Desktop\\\\my_projects\\\\Anime_NLP\\\\data\\\\Subtitles\\\\Naruto Season 7 - 173.ass', 'c:\\\\Users\\\\Gani\\\\Desktop\\\\my_projects\\\\Anime_NLP\\\\data\\\\Subtitles\\\\Naruto Season 7 - 174.ass', 'c:\\\\Users\\\\Gani\\\\Desktop\\\\my_projects\\\\Anime_NLP\\\\data\\\\Subtitles\\\\Naruto Season 7 - 175.ass', 'c:\\\\Users\\\\Gani\\\\Desktop\\\\my_projects\\\\Anime_NLP\\\\data\\\\Subtitles\\\\Naruto Season 7 - 176.ass', 'c:\\\\Users\\\\Gani\\\\Desktop\\\\my_projects\\\\Anime_NLP\\\\data\\\\Subtitles\\\\Naruto Season 7 - 177.ass', 'c:\\\\Users\\\\Gani\\\\Desktop\\\\my_projects\\\\Anime_NLP\\\\data\\\\Subtitles\\\\Naruto Season 7 - 178.ass', 'c:\\\\Users\\\\Gani\\\\Desktop\\\\my_projects\\\\Anime_NLP\\\\data\\\\Subtitles\\\\Naruto Season 7 - 179.ass', 'c:\\\\Users\\\\Gani\\\\Desktop\\\\my_projects\\\\Anime_NLP\\\\data\\\\Subtitles\\\\Naruto Season 7 - 180.ass', 'c:\\\\Users\\\\Gani\\\\Desktop\\\\my_projects\\\\Anime_NLP\\\\data\\\\Subtitles\\\\Naruto Season 7 - 181.ass', 'c:\\\\Users\\\\Gani\\\\Desktop\\\\my_projects\\\\Anime_NLP\\\\data\\\\Subtitles\\\\Naruto Season 7 - 182.ass', 'c:\\\\Users\\\\Gani\\\\Desktop\\\\my_projects\\\\Anime_NLP\\\\data\\\\Subtitles\\\\Naruto Season 8 - 183.ass', 'c:\\\\Users\\\\Gani\\\\Desktop\\\\my_projects\\\\Anime_NLP\\\\data\\\\Subtitles\\\\Naruto Season 8 - 184.ass', 'c:\\\\Users\\\\Gani\\\\Desktop\\\\my_projects\\\\Anime_NLP\\\\data\\\\Subtitles\\\\Naruto Season 8 - 185.ass', 'c:\\\\Users\\\\Gani\\\\Desktop\\\\my_projects\\\\Anime_NLP\\\\data\\\\Subtitles\\\\Naruto Season 8 - 186.ass', 'c:\\\\Users\\\\Gani\\\\Desktop\\\\my_projects\\\\Anime_NLP\\\\data\\\\Subtitles\\\\Naruto Season 8 - 187.ass', 'c:\\\\Users\\\\Gani\\\\Desktop\\\\my_projects\\\\Anime_NLP\\\\data\\\\Subtitles\\\\Naruto Season 8 - 188.ass', 'c:\\\\Users\\\\Gani\\\\Desktop\\\\my_projects\\\\Anime_NLP\\\\data\\\\Subtitles\\\\Naruto Season 8 - 189.ass', 'c:\\\\Users\\\\Gani\\\\Desktop\\\\my_projects\\\\Anime_NLP\\\\data\\\\Subtitles\\\\Naruto Season 8 - 190.ass', 'c:\\\\Users\\\\Gani\\\\Desktop\\\\my_projects\\\\Anime_NLP\\\\data\\\\Subtitles\\\\Naruto Season 8 - 191.ass', 'c:\\\\Users\\\\Gani\\\\Desktop\\\\my_projects\\\\Anime_NLP\\\\data\\\\Subtitles\\\\Naruto Season 8 - 192.ass', 'c:\\\\Users\\\\Gani\\\\Desktop\\\\my_projects\\\\Anime_NLP\\\\data\\\\Subtitles\\\\Naruto Season 8 - 193.ass', 'c:\\\\Users\\\\Gani\\\\Desktop\\\\my_projects\\\\Anime_NLP\\\\data\\\\Subtitles\\\\Naruto Season 8 - 194.ass', 'c:\\\\Users\\\\Gani\\\\Desktop\\\\my_projects\\\\Anime_NLP\\\\data\\\\Subtitles\\\\Naruto Season 8 - 195.ass', 'c:\\\\Users\\\\Gani\\\\Desktop\\\\my_projects\\\\Anime_NLP\\\\data\\\\Subtitles\\\\Naruto Season 8 - 196.ass', 'c:\\\\Users\\\\Gani\\\\Desktop\\\\my_projects\\\\Anime_NLP\\\\data\\\\Subtitles\\\\Naruto Season 8 - 197.ass', 'c:\\\\Users\\\\Gani\\\\Desktop\\\\my_projects\\\\Anime_NLP\\\\data\\\\Subtitles\\\\Naruto Season 8 - 198.ass', 'c:\\\\Users\\\\Gani\\\\Desktop\\\\my_projects\\\\Anime_NLP\\\\data\\\\Subtitles\\\\Naruto Season 8 - 199.ass', 'c:\\\\Users\\\\Gani\\\\Desktop\\\\my_projects\\\\Anime_NLP\\\\data\\\\Subtitles\\\\Naruto Season 8 - 200.ass', 'c:\\\\Users\\\\Gani\\\\Desktop\\\\my_projects\\\\Anime_NLP\\\\data\\\\Subtitles\\\\Naruto Season 8 - 201.ass', 'c:\\\\Users\\\\Gani\\\\Desktop\\\\my_projects\\\\Anime_NLP\\\\data\\\\Subtitles\\\\Naruto Season 8 - 202.ass', 'c:\\\\Users\\\\Gani\\\\Desktop\\\\my_projects\\\\Anime_NLP\\\\data\\\\Subtitles\\\\Naruto Season 8 - 203.ass', 'c:\\\\Users\\\\Gani\\\\Desktop\\\\my_projects\\\\Anime_NLP\\\\data\\\\Subtitles\\\\Naruto Season 8 - 204.ass', 'c:\\\\Users\\\\Gani\\\\Desktop\\\\my_projects\\\\Anime_NLP\\\\data\\\\Subtitles\\\\Naruto Season 8 - 205.ass', 'c:\\\\Users\\\\Gani\\\\Desktop\\\\my_projects\\\\Anime_NLP\\\\data\\\\Subtitles\\\\Naruto Season 8 - 206.ass', 'c:\\\\Users\\\\Gani\\\\Desktop\\\\my_projects\\\\Anime_NLP\\\\data\\\\Subtitles\\\\Naruto Season 8 - 207.ass', 'c:\\\\Users\\\\Gani\\\\Desktop\\\\my_projects\\\\Anime_NLP\\\\data\\\\Subtitles\\\\Naruto Season 8 - 208.ass', 'c:\\\\Users\\\\Gani\\\\Desktop\\\\my_projects\\\\Anime_NLP\\\\data\\\\Subtitles\\\\Naruto Season 9 - 209.ass', 'c:\\\\Users\\\\Gani\\\\Desktop\\\\my_projects\\\\Anime_NLP\\\\data\\\\Subtitles\\\\Naruto Season 9 - 210.ass', 'c:\\\\Users\\\\Gani\\\\Desktop\\\\my_projects\\\\Anime_NLP\\\\data\\\\Subtitles\\\\Naruto Season 9 - 211.ass', 'c:\\\\Users\\\\Gani\\\\Desktop\\\\my_projects\\\\Anime_NLP\\\\data\\\\Subtitles\\\\Naruto Season 9 - 212.ass', 'c:\\\\Users\\\\Gani\\\\Desktop\\\\my_projects\\\\Anime_NLP\\\\data\\\\Subtitles\\\\Naruto Season 9 - 213.ass', 'c:\\\\Users\\\\Gani\\\\Desktop\\\\my_projects\\\\Anime_NLP\\\\data\\\\Subtitles\\\\Naruto Season 9 - 214.ass', 'c:\\\\Users\\\\Gani\\\\Desktop\\\\my_projects\\\\Anime_NLP\\\\data\\\\Subtitles\\\\Naruto Season 9 - 215.ass', 'c:\\\\Users\\\\Gani\\\\Desktop\\\\my_projects\\\\Anime_NLP\\\\data\\\\Subtitles\\\\Naruto Season 9 - 216.ass', 'c:\\\\Users\\\\Gani\\\\Desktop\\\\my_projects\\\\Anime_NLP\\\\data\\\\Subtitles\\\\Naruto Season 9 - 217.ass', 'c:\\\\Users\\\\Gani\\\\Desktop\\\\my_projects\\\\Anime_NLP\\\\data\\\\Subtitles\\\\Naruto Season 9 - 218.ass', 'c:\\\\Users\\\\Gani\\\\Desktop\\\\my_projects\\\\Anime_NLP\\\\data\\\\Subtitles\\\\Naruto Season 9 - 219.ass', 'c:\\\\Users\\\\Gani\\\\Desktop\\\\my_projects\\\\Anime_NLP\\\\data\\\\Subtitles\\\\Naruto Season 9 - 220.ass']\n",
      "\n",
      "Файлы (рекурсивный поиск): ['c:\\\\Users\\\\Gani\\\\Desktop\\\\my_projects\\\\Anime_NLP\\\\data\\\\Subtitles\\\\Naruto Season 1 - 01.ass', 'c:\\\\Users\\\\Gani\\\\Desktop\\\\my_projects\\\\Anime_NLP\\\\data\\\\Subtitles\\\\Naruto Season 1 - 02.ass', 'c:\\\\Users\\\\Gani\\\\Desktop\\\\my_projects\\\\Anime_NLP\\\\data\\\\Subtitles\\\\Naruto Season 1 - 03.ass', 'c:\\\\Users\\\\Gani\\\\Desktop\\\\my_projects\\\\Anime_NLP\\\\data\\\\Subtitles\\\\Naruto Season 1 - 04.ass', 'c:\\\\Users\\\\Gani\\\\Desktop\\\\my_projects\\\\Anime_NLP\\\\data\\\\Subtitles\\\\Naruto Season 1 - 05.ass', 'c:\\\\Users\\\\Gani\\\\Desktop\\\\my_projects\\\\Anime_NLP\\\\data\\\\Subtitles\\\\Naruto Season 1 - 06.ass', 'c:\\\\Users\\\\Gani\\\\Desktop\\\\my_projects\\\\Anime_NLP\\\\data\\\\Subtitles\\\\Naruto Season 1 - 07.ass', 'c:\\\\Users\\\\Gani\\\\Desktop\\\\my_projects\\\\Anime_NLP\\\\data\\\\Subtitles\\\\Naruto Season 1 - 08.ass', 'c:\\\\Users\\\\Gani\\\\Desktop\\\\my_projects\\\\Anime_NLP\\\\data\\\\Subtitles\\\\Naruto Season 1 - 09.ass', 'c:\\\\Users\\\\Gani\\\\Desktop\\\\my_projects\\\\Anime_NLP\\\\data\\\\Subtitles\\\\Naruto Season 1 - 12.ass', 'c:\\\\Users\\\\Gani\\\\Desktop\\\\my_projects\\\\Anime_NLP\\\\data\\\\Subtitles\\\\Naruto Season 1 - 13.ass', 'c:\\\\Users\\\\Gani\\\\Desktop\\\\my_projects\\\\Anime_NLP\\\\data\\\\Subtitles\\\\Naruto Season 1 - 14.ass', 'c:\\\\Users\\\\Gani\\\\Desktop\\\\my_projects\\\\Anime_NLP\\\\data\\\\Subtitles\\\\Naruto Season 1 - 15.ass', 'c:\\\\Users\\\\Gani\\\\Desktop\\\\my_projects\\\\Anime_NLP\\\\data\\\\Subtitles\\\\Naruto Season 1 - 16.ass', 'c:\\\\Users\\\\Gani\\\\Desktop\\\\my_projects\\\\Anime_NLP\\\\data\\\\Subtitles\\\\Naruto Season 1 - 17.ass', 'c:\\\\Users\\\\Gani\\\\Desktop\\\\my_projects\\\\Anime_NLP\\\\data\\\\Subtitles\\\\Naruto Season 1 - 18.ass', 'c:\\\\Users\\\\Gani\\\\Desktop\\\\my_projects\\\\Anime_NLP\\\\data\\\\Subtitles\\\\Naruto Season 1 - 19.ass', 'c:\\\\Users\\\\Gani\\\\Desktop\\\\my_projects\\\\Anime_NLP\\\\data\\\\Subtitles\\\\Naruto Season 1 - 20.ass', 'c:\\\\Users\\\\Gani\\\\Desktop\\\\my_projects\\\\Anime_NLP\\\\data\\\\Subtitles\\\\Naruto Season 1 - 21.ass', 'c:\\\\Users\\\\Gani\\\\Desktop\\\\my_projects\\\\Anime_NLP\\\\data\\\\Subtitles\\\\Naruto Season 1 - 22.ass', 'c:\\\\Users\\\\Gani\\\\Desktop\\\\my_projects\\\\Anime_NLP\\\\data\\\\Subtitles\\\\Naruto Season 1 - 23.ass', 'c:\\\\Users\\\\Gani\\\\Desktop\\\\my_projects\\\\Anime_NLP\\\\data\\\\Subtitles\\\\Naruto Season 1 - 24.ass', 'c:\\\\Users\\\\Gani\\\\Desktop\\\\my_projects\\\\Anime_NLP\\\\data\\\\Subtitles\\\\Naruto Season 1 - 25.ass', 'c:\\\\Users\\\\Gani\\\\Desktop\\\\my_projects\\\\Anime_NLP\\\\data\\\\Subtitles\\\\Naruto Season 1 - 26.ass', 'c:\\\\Users\\\\Gani\\\\Desktop\\\\my_projects\\\\Anime_NLP\\\\data\\\\Subtitles\\\\Naruto Season 2 - 27.ass', 'c:\\\\Users\\\\Gani\\\\Desktop\\\\my_projects\\\\Anime_NLP\\\\data\\\\Subtitles\\\\Naruto Season 2 - 28.ass', 'c:\\\\Users\\\\Gani\\\\Desktop\\\\my_projects\\\\Anime_NLP\\\\data\\\\Subtitles\\\\Naruto Season 2 - 29.ass', 'c:\\\\Users\\\\Gani\\\\Desktop\\\\my_projects\\\\Anime_NLP\\\\data\\\\Subtitles\\\\Naruto Season 2 - 30.ass', 'c:\\\\Users\\\\Gani\\\\Desktop\\\\my_projects\\\\Anime_NLP\\\\data\\\\Subtitles\\\\Naruto Season 2 - 31.ass', 'c:\\\\Users\\\\Gani\\\\Desktop\\\\my_projects\\\\Anime_NLP\\\\data\\\\Subtitles\\\\Naruto Season 2 - 32.ass', 'c:\\\\Users\\\\Gani\\\\Desktop\\\\my_projects\\\\Anime_NLP\\\\data\\\\Subtitles\\\\Naruto Season 2 - 33.ass', 'c:\\\\Users\\\\Gani\\\\Desktop\\\\my_projects\\\\Anime_NLP\\\\data\\\\Subtitles\\\\Naruto Season 2 - 34.ass', 'c:\\\\Users\\\\Gani\\\\Desktop\\\\my_projects\\\\Anime_NLP\\\\data\\\\Subtitles\\\\Naruto Season 2 - 35.ass', 'c:\\\\Users\\\\Gani\\\\Desktop\\\\my_projects\\\\Anime_NLP\\\\data\\\\Subtitles\\\\Naruto Season 2 - 36.ass', 'c:\\\\Users\\\\Gani\\\\Desktop\\\\my_projects\\\\Anime_NLP\\\\data\\\\Subtitles\\\\Naruto Season 2 - 37.ass', 'c:\\\\Users\\\\Gani\\\\Desktop\\\\my_projects\\\\Anime_NLP\\\\data\\\\Subtitles\\\\Naruto Season 2 - 38.ass', 'c:\\\\Users\\\\Gani\\\\Desktop\\\\my_projects\\\\Anime_NLP\\\\data\\\\Subtitles\\\\Naruto Season 2 - 39.ass', 'c:\\\\Users\\\\Gani\\\\Desktop\\\\my_projects\\\\Anime_NLP\\\\data\\\\Subtitles\\\\Naruto Season 2 - 40.ass', 'c:\\\\Users\\\\Gani\\\\Desktop\\\\my_projects\\\\Anime_NLP\\\\data\\\\Subtitles\\\\Naruto Season 2 - 41.ass', 'c:\\\\Users\\\\Gani\\\\Desktop\\\\my_projects\\\\Anime_NLP\\\\data\\\\Subtitles\\\\Naruto Season 2 - 42.ass', 'c:\\\\Users\\\\Gani\\\\Desktop\\\\my_projects\\\\Anime_NLP\\\\data\\\\Subtitles\\\\Naruto Season 2 - 43.ass', 'c:\\\\Users\\\\Gani\\\\Desktop\\\\my_projects\\\\Anime_NLP\\\\data\\\\Subtitles\\\\Naruto Season 2 - 44.ass', 'c:\\\\Users\\\\Gani\\\\Desktop\\\\my_projects\\\\Anime_NLP\\\\data\\\\Subtitles\\\\Naruto Season 2 - 45.ass', 'c:\\\\Users\\\\Gani\\\\Desktop\\\\my_projects\\\\Anime_NLP\\\\data\\\\Subtitles\\\\Naruto Season 2 - 46.ass', 'c:\\\\Users\\\\Gani\\\\Desktop\\\\my_projects\\\\Anime_NLP\\\\data\\\\Subtitles\\\\Naruto Season 2 - 47.ass', 'c:\\\\Users\\\\Gani\\\\Desktop\\\\my_projects\\\\Anime_NLP\\\\data\\\\Subtitles\\\\Naruto Season 2 - 48.ass', 'c:\\\\Users\\\\Gani\\\\Desktop\\\\my_projects\\\\Anime_NLP\\\\data\\\\Subtitles\\\\Naruto Season 2 - 49.ass', 'c:\\\\Users\\\\Gani\\\\Desktop\\\\my_projects\\\\Anime_NLP\\\\data\\\\Subtitles\\\\Naruto Season 2 - 50.ass', 'c:\\\\Users\\\\Gani\\\\Desktop\\\\my_projects\\\\Anime_NLP\\\\data\\\\Subtitles\\\\Naruto Season 2 - 51.ass', 'c:\\\\Users\\\\Gani\\\\Desktop\\\\my_projects\\\\Anime_NLP\\\\data\\\\Subtitles\\\\Naruto Season 2 - 52.ass', 'c:\\\\Users\\\\Gani\\\\Desktop\\\\my_projects\\\\Anime_NLP\\\\data\\\\Subtitles\\\\Naruto Season 3 - 53.ass', 'c:\\\\Users\\\\Gani\\\\Desktop\\\\my_projects\\\\Anime_NLP\\\\data\\\\Subtitles\\\\Naruto Season 3 - 54.ass', 'c:\\\\Users\\\\Gani\\\\Desktop\\\\my_projects\\\\Anime_NLP\\\\data\\\\Subtitles\\\\Naruto Season 3 - 55.ass', 'c:\\\\Users\\\\Gani\\\\Desktop\\\\my_projects\\\\Anime_NLP\\\\data\\\\Subtitles\\\\Naruto Season 3 - 56.ass', 'c:\\\\Users\\\\Gani\\\\Desktop\\\\my_projects\\\\Anime_NLP\\\\data\\\\Subtitles\\\\Naruto Season 3 - 57.ass', 'c:\\\\Users\\\\Gani\\\\Desktop\\\\my_projects\\\\Anime_NLP\\\\data\\\\Subtitles\\\\Naruto Season 3 - 58.ass', 'c:\\\\Users\\\\Gani\\\\Desktop\\\\my_projects\\\\Anime_NLP\\\\data\\\\Subtitles\\\\Naruto Season 3 - 59.ass', 'c:\\\\Users\\\\Gani\\\\Desktop\\\\my_projects\\\\Anime_NLP\\\\data\\\\Subtitles\\\\Naruto Season 3 - 60.ass', 'c:\\\\Users\\\\Gani\\\\Desktop\\\\my_projects\\\\Anime_NLP\\\\data\\\\Subtitles\\\\Naruto Season 3 - 61.ass', 'c:\\\\Users\\\\Gani\\\\Desktop\\\\my_projects\\\\Anime_NLP\\\\data\\\\Subtitles\\\\Naruto Season 3 - 62.ass', 'c:\\\\Users\\\\Gani\\\\Desktop\\\\my_projects\\\\Anime_NLP\\\\data\\\\Subtitles\\\\Naruto Season 3 - 63.ass', 'c:\\\\Users\\\\Gani\\\\Desktop\\\\my_projects\\\\Anime_NLP\\\\data\\\\Subtitles\\\\Naruto Season 3 - 64.ass', 'c:\\\\Users\\\\Gani\\\\Desktop\\\\my_projects\\\\Anime_NLP\\\\data\\\\Subtitles\\\\Naruto Season 3 - 65.ass', 'c:\\\\Users\\\\Gani\\\\Desktop\\\\my_projects\\\\Anime_NLP\\\\data\\\\Subtitles\\\\Naruto Season 3 - 66.ass', 'c:\\\\Users\\\\Gani\\\\Desktop\\\\my_projects\\\\Anime_NLP\\\\data\\\\Subtitles\\\\Naruto Season 3 - 67.ass', 'c:\\\\Users\\\\Gani\\\\Desktop\\\\my_projects\\\\Anime_NLP\\\\data\\\\Subtitles\\\\Naruto Season 3 - 68.ass', 'c:\\\\Users\\\\Gani\\\\Desktop\\\\my_projects\\\\Anime_NLP\\\\data\\\\Subtitles\\\\Naruto Season 3 - 69.ass', 'c:\\\\Users\\\\Gani\\\\Desktop\\\\my_projects\\\\Anime_NLP\\\\data\\\\Subtitles\\\\Naruto Season 3 - 70.ass', 'c:\\\\Users\\\\Gani\\\\Desktop\\\\my_projects\\\\Anime_NLP\\\\data\\\\Subtitles\\\\Naruto Season 3 - 71.ass', 'c:\\\\Users\\\\Gani\\\\Desktop\\\\my_projects\\\\Anime_NLP\\\\data\\\\Subtitles\\\\Naruto Season 3 - 72.ass', 'c:\\\\Users\\\\Gani\\\\Desktop\\\\my_projects\\\\Anime_NLP\\\\data\\\\Subtitles\\\\Naruto Season 3 - 73.ass', 'c:\\\\Users\\\\Gani\\\\Desktop\\\\my_projects\\\\Anime_NLP\\\\data\\\\Subtitles\\\\Naruto Season 3 - 74.ass', 'c:\\\\Users\\\\Gani\\\\Desktop\\\\my_projects\\\\Anime_NLP\\\\data\\\\Subtitles\\\\Naruto Season 3 - 75.ass', 'c:\\\\Users\\\\Gani\\\\Desktop\\\\my_projects\\\\Anime_NLP\\\\data\\\\Subtitles\\\\Naruto Season 3 - 76.ass', 'c:\\\\Users\\\\Gani\\\\Desktop\\\\my_projects\\\\Anime_NLP\\\\data\\\\Subtitles\\\\Naruto Season 3 - 77.ass', 'c:\\\\Users\\\\Gani\\\\Desktop\\\\my_projects\\\\Anime_NLP\\\\data\\\\Subtitles\\\\Naruto Season 3 - 78.ass', 'c:\\\\Users\\\\Gani\\\\Desktop\\\\my_projects\\\\Anime_NLP\\\\data\\\\Subtitles\\\\Naruto Season 4 - 100.ass', 'c:\\\\Users\\\\Gani\\\\Desktop\\\\my_projects\\\\Anime_NLP\\\\data\\\\Subtitles\\\\Naruto Season 4 - 101.ass', 'c:\\\\Users\\\\Gani\\\\Desktop\\\\my_projects\\\\Anime_NLP\\\\data\\\\Subtitles\\\\Naruto Season 4 - 102.ass', 'c:\\\\Users\\\\Gani\\\\Desktop\\\\my_projects\\\\Anime_NLP\\\\data\\\\Subtitles\\\\Naruto Season 4 - 103.ass', 'c:\\\\Users\\\\Gani\\\\Desktop\\\\my_projects\\\\Anime_NLP\\\\data\\\\Subtitles\\\\Naruto Season 4 - 104.ass', 'c:\\\\Users\\\\Gani\\\\Desktop\\\\my_projects\\\\Anime_NLP\\\\data\\\\Subtitles\\\\Naruto Season 4 - 79.ass', 'c:\\\\Users\\\\Gani\\\\Desktop\\\\my_projects\\\\Anime_NLP\\\\data\\\\Subtitles\\\\Naruto Season 4 - 80.ass', 'c:\\\\Users\\\\Gani\\\\Desktop\\\\my_projects\\\\Anime_NLP\\\\data\\\\Subtitles\\\\Naruto Season 4 - 81.ass', 'c:\\\\Users\\\\Gani\\\\Desktop\\\\my_projects\\\\Anime_NLP\\\\data\\\\Subtitles\\\\Naruto Season 4 - 82.ass', 'c:\\\\Users\\\\Gani\\\\Desktop\\\\my_projects\\\\Anime_NLP\\\\data\\\\Subtitles\\\\Naruto Season 4 - 83.ass', 'c:\\\\Users\\\\Gani\\\\Desktop\\\\my_projects\\\\Anime_NLP\\\\data\\\\Subtitles\\\\Naruto Season 4 - 84.ass', 'c:\\\\Users\\\\Gani\\\\Desktop\\\\my_projects\\\\Anime_NLP\\\\data\\\\Subtitles\\\\Naruto Season 4 - 85.ass', 'c:\\\\Users\\\\Gani\\\\Desktop\\\\my_projects\\\\Anime_NLP\\\\data\\\\Subtitles\\\\Naruto Season 4 - 86.ass', 'c:\\\\Users\\\\Gani\\\\Desktop\\\\my_projects\\\\Anime_NLP\\\\data\\\\Subtitles\\\\Naruto Season 4 - 87.ass', 'c:\\\\Users\\\\Gani\\\\Desktop\\\\my_projects\\\\Anime_NLP\\\\data\\\\Subtitles\\\\Naruto Season 4 - 88.ass', 'c:\\\\Users\\\\Gani\\\\Desktop\\\\my_projects\\\\Anime_NLP\\\\data\\\\Subtitles\\\\Naruto Season 4 - 89.ass', 'c:\\\\Users\\\\Gani\\\\Desktop\\\\my_projects\\\\Anime_NLP\\\\data\\\\Subtitles\\\\Naruto Season 4 - 90.ass', 'c:\\\\Users\\\\Gani\\\\Desktop\\\\my_projects\\\\Anime_NLP\\\\data\\\\Subtitles\\\\Naruto Season 4 - 91.ass', 'c:\\\\Users\\\\Gani\\\\Desktop\\\\my_projects\\\\Anime_NLP\\\\data\\\\Subtitles\\\\Naruto Season 4 - 92.ass', 'c:\\\\Users\\\\Gani\\\\Desktop\\\\my_projects\\\\Anime_NLP\\\\data\\\\Subtitles\\\\Naruto Season 4 - 93.ass', 'c:\\\\Users\\\\Gani\\\\Desktop\\\\my_projects\\\\Anime_NLP\\\\data\\\\Subtitles\\\\Naruto Season 4 - 94.ass', 'c:\\\\Users\\\\Gani\\\\Desktop\\\\my_projects\\\\Anime_NLP\\\\data\\\\Subtitles\\\\Naruto Season 4 - 95.ass', 'c:\\\\Users\\\\Gani\\\\Desktop\\\\my_projects\\\\Anime_NLP\\\\data\\\\Subtitles\\\\Naruto Season 4 - 96.ass', 'c:\\\\Users\\\\Gani\\\\Desktop\\\\my_projects\\\\Anime_NLP\\\\data\\\\Subtitles\\\\Naruto Season 4 - 97.ass', 'c:\\\\Users\\\\Gani\\\\Desktop\\\\my_projects\\\\Anime_NLP\\\\data\\\\Subtitles\\\\Naruto Season 4 - 98.ass', 'c:\\\\Users\\\\Gani\\\\Desktop\\\\my_projects\\\\Anime_NLP\\\\data\\\\Subtitles\\\\Naruto Season 4 - 99.ass', 'c:\\\\Users\\\\Gani\\\\Desktop\\\\my_projects\\\\Anime_NLP\\\\data\\\\Subtitles\\\\Naruto Season 5 - 105.ass', 'c:\\\\Users\\\\Gani\\\\Desktop\\\\my_projects\\\\Anime_NLP\\\\data\\\\Subtitles\\\\Naruto Season 5 - 106.ass', 'c:\\\\Users\\\\Gani\\\\Desktop\\\\my_projects\\\\Anime_NLP\\\\data\\\\Subtitles\\\\Naruto Season 5 - 107.ass', 'c:\\\\Users\\\\Gani\\\\Desktop\\\\my_projects\\\\Anime_NLP\\\\data\\\\Subtitles\\\\Naruto Season 5 - 108.ass', 'c:\\\\Users\\\\Gani\\\\Desktop\\\\my_projects\\\\Anime_NLP\\\\data\\\\Subtitles\\\\Naruto Season 5 - 109.ass', 'c:\\\\Users\\\\Gani\\\\Desktop\\\\my_projects\\\\Anime_NLP\\\\data\\\\Subtitles\\\\Naruto Season 5 - 110.ass', 'c:\\\\Users\\\\Gani\\\\Desktop\\\\my_projects\\\\Anime_NLP\\\\data\\\\Subtitles\\\\Naruto Season 5 - 111.ass', 'c:\\\\Users\\\\Gani\\\\Desktop\\\\my_projects\\\\Anime_NLP\\\\data\\\\Subtitles\\\\Naruto Season 5 - 112.ass', 'c:\\\\Users\\\\Gani\\\\Desktop\\\\my_projects\\\\Anime_NLP\\\\data\\\\Subtitles\\\\Naruto Season 5 - 113.ass', 'c:\\\\Users\\\\Gani\\\\Desktop\\\\my_projects\\\\Anime_NLP\\\\data\\\\Subtitles\\\\Naruto Season 5 - 114.ass', 'c:\\\\Users\\\\Gani\\\\Desktop\\\\my_projects\\\\Anime_NLP\\\\data\\\\Subtitles\\\\Naruto Season 5 - 115.ass', 'c:\\\\Users\\\\Gani\\\\Desktop\\\\my_projects\\\\Anime_NLP\\\\data\\\\Subtitles\\\\Naruto Season 5 - 116.ass', 'c:\\\\Users\\\\Gani\\\\Desktop\\\\my_projects\\\\Anime_NLP\\\\data\\\\Subtitles\\\\Naruto Season 5 - 117.ass', 'c:\\\\Users\\\\Gani\\\\Desktop\\\\my_projects\\\\Anime_NLP\\\\data\\\\Subtitles\\\\Naruto Season 5 - 118.ass', 'c:\\\\Users\\\\Gani\\\\Desktop\\\\my_projects\\\\Anime_NLP\\\\data\\\\Subtitles\\\\Naruto Season 5 - 119.ass', 'c:\\\\Users\\\\Gani\\\\Desktop\\\\my_projects\\\\Anime_NLP\\\\data\\\\Subtitles\\\\Naruto Season 5 - 120.ass', 'c:\\\\Users\\\\Gani\\\\Desktop\\\\my_projects\\\\Anime_NLP\\\\data\\\\Subtitles\\\\Naruto Season 5 - 121.ass', 'c:\\\\Users\\\\Gani\\\\Desktop\\\\my_projects\\\\Anime_NLP\\\\data\\\\Subtitles\\\\Naruto Season 5 - 122.ass', 'c:\\\\Users\\\\Gani\\\\Desktop\\\\my_projects\\\\Anime_NLP\\\\data\\\\Subtitles\\\\Naruto Season 5 - 123.ass', 'c:\\\\Users\\\\Gani\\\\Desktop\\\\my_projects\\\\Anime_NLP\\\\data\\\\Subtitles\\\\Naruto Season 5 - 124.ass', 'c:\\\\Users\\\\Gani\\\\Desktop\\\\my_projects\\\\Anime_NLP\\\\data\\\\Subtitles\\\\Naruto Season 5 - 125.ass', 'c:\\\\Users\\\\Gani\\\\Desktop\\\\my_projects\\\\Anime_NLP\\\\data\\\\Subtitles\\\\Naruto Season 5 - 126.ass', 'c:\\\\Users\\\\Gani\\\\Desktop\\\\my_projects\\\\Anime_NLP\\\\data\\\\Subtitles\\\\Naruto Season 5 - 127.ass', 'c:\\\\Users\\\\Gani\\\\Desktop\\\\my_projects\\\\Anime_NLP\\\\data\\\\Subtitles\\\\Naruto Season 5 - 128.ass', 'c:\\\\Users\\\\Gani\\\\Desktop\\\\my_projects\\\\Anime_NLP\\\\data\\\\Subtitles\\\\Naruto Season 5 - 129.ass', 'c:\\\\Users\\\\Gani\\\\Desktop\\\\my_projects\\\\Anime_NLP\\\\data\\\\Subtitles\\\\Naruto Season 5 - 130.ass', 'c:\\\\Users\\\\Gani\\\\Desktop\\\\my_projects\\\\Anime_NLP\\\\data\\\\Subtitles\\\\Naruto Season 6 - 131.ass', 'c:\\\\Users\\\\Gani\\\\Desktop\\\\my_projects\\\\Anime_NLP\\\\data\\\\Subtitles\\\\Naruto Season 6 - 132.ass', 'c:\\\\Users\\\\Gani\\\\Desktop\\\\my_projects\\\\Anime_NLP\\\\data\\\\Subtitles\\\\Naruto Season 6 - 133.ass', 'c:\\\\Users\\\\Gani\\\\Desktop\\\\my_projects\\\\Anime_NLP\\\\data\\\\Subtitles\\\\Naruto Season 6 - 134.ass', 'c:\\\\Users\\\\Gani\\\\Desktop\\\\my_projects\\\\Anime_NLP\\\\data\\\\Subtitles\\\\Naruto Season 6 - 135.ass', 'c:\\\\Users\\\\Gani\\\\Desktop\\\\my_projects\\\\Anime_NLP\\\\data\\\\Subtitles\\\\Naruto Season 6 - 136.ass', 'c:\\\\Users\\\\Gani\\\\Desktop\\\\my_projects\\\\Anime_NLP\\\\data\\\\Subtitles\\\\Naruto Season 6 - 137.ass', 'c:\\\\Users\\\\Gani\\\\Desktop\\\\my_projects\\\\Anime_NLP\\\\data\\\\Subtitles\\\\Naruto Season 6 - 138.ass', 'c:\\\\Users\\\\Gani\\\\Desktop\\\\my_projects\\\\Anime_NLP\\\\data\\\\Subtitles\\\\Naruto Season 6 - 139.ass', 'c:\\\\Users\\\\Gani\\\\Desktop\\\\my_projects\\\\Anime_NLP\\\\data\\\\Subtitles\\\\Naruto Season 6 - 140.ass', 'c:\\\\Users\\\\Gani\\\\Desktop\\\\my_projects\\\\Anime_NLP\\\\data\\\\Subtitles\\\\Naruto Season 6 - 141.ass', 'c:\\\\Users\\\\Gani\\\\Desktop\\\\my_projects\\\\Anime_NLP\\\\data\\\\Subtitles\\\\Naruto Season 6 - 142.ass', 'c:\\\\Users\\\\Gani\\\\Desktop\\\\my_projects\\\\Anime_NLP\\\\data\\\\Subtitles\\\\Naruto Season 6 - 143.ass', 'c:\\\\Users\\\\Gani\\\\Desktop\\\\my_projects\\\\Anime_NLP\\\\data\\\\Subtitles\\\\Naruto Season 6 - 144.ass', 'c:\\\\Users\\\\Gani\\\\Desktop\\\\my_projects\\\\Anime_NLP\\\\data\\\\Subtitles\\\\Naruto Season 6 - 145.ass', 'c:\\\\Users\\\\Gani\\\\Desktop\\\\my_projects\\\\Anime_NLP\\\\data\\\\Subtitles\\\\Naruto Season 6 - 146.ass', 'c:\\\\Users\\\\Gani\\\\Desktop\\\\my_projects\\\\Anime_NLP\\\\data\\\\Subtitles\\\\Naruto Season 6 - 147.ass', 'c:\\\\Users\\\\Gani\\\\Desktop\\\\my_projects\\\\Anime_NLP\\\\data\\\\Subtitles\\\\Naruto Season 6 - 148.ass', 'c:\\\\Users\\\\Gani\\\\Desktop\\\\my_projects\\\\Anime_NLP\\\\data\\\\Subtitles\\\\Naruto Season 6 - 149.ass', 'c:\\\\Users\\\\Gani\\\\Desktop\\\\my_projects\\\\Anime_NLP\\\\data\\\\Subtitles\\\\Naruto Season 6 - 150.ass', 'c:\\\\Users\\\\Gani\\\\Desktop\\\\my_projects\\\\Anime_NLP\\\\data\\\\Subtitles\\\\Naruto Season 6 - 151.ass', 'c:\\\\Users\\\\Gani\\\\Desktop\\\\my_projects\\\\Anime_NLP\\\\data\\\\Subtitles\\\\Naruto Season 6 - 152.ass', 'c:\\\\Users\\\\Gani\\\\Desktop\\\\my_projects\\\\Anime_NLP\\\\data\\\\Subtitles\\\\Naruto Season 6 - 153.ass', 'c:\\\\Users\\\\Gani\\\\Desktop\\\\my_projects\\\\Anime_NLP\\\\data\\\\Subtitles\\\\Naruto Season 6 - 154.ass', 'c:\\\\Users\\\\Gani\\\\Desktop\\\\my_projects\\\\Anime_NLP\\\\data\\\\Subtitles\\\\Naruto Season 6 - 155.ass', 'c:\\\\Users\\\\Gani\\\\Desktop\\\\my_projects\\\\Anime_NLP\\\\data\\\\Subtitles\\\\Naruto Season 6 - 156.ass', 'c:\\\\Users\\\\Gani\\\\Desktop\\\\my_projects\\\\Anime_NLP\\\\data\\\\Subtitles\\\\Naruto Season 7 - 157.ass', 'c:\\\\Users\\\\Gani\\\\Desktop\\\\my_projects\\\\Anime_NLP\\\\data\\\\Subtitles\\\\Naruto Season 7 - 158.ass', 'c:\\\\Users\\\\Gani\\\\Desktop\\\\my_projects\\\\Anime_NLP\\\\data\\\\Subtitles\\\\Naruto Season 7 - 159.ass', 'c:\\\\Users\\\\Gani\\\\Desktop\\\\my_projects\\\\Anime_NLP\\\\data\\\\Subtitles\\\\Naruto Season 7 - 160.ass', 'c:\\\\Users\\\\Gani\\\\Desktop\\\\my_projects\\\\Anime_NLP\\\\data\\\\Subtitles\\\\Naruto Season 7 - 161.ass', 'c:\\\\Users\\\\Gani\\\\Desktop\\\\my_projects\\\\Anime_NLP\\\\data\\\\Subtitles\\\\Naruto Season 7 - 162.ass', 'c:\\\\Users\\\\Gani\\\\Desktop\\\\my_projects\\\\Anime_NLP\\\\data\\\\Subtitles\\\\Naruto Season 7 - 163.ass', 'c:\\\\Users\\\\Gani\\\\Desktop\\\\my_projects\\\\Anime_NLP\\\\data\\\\Subtitles\\\\Naruto Season 7 - 164.ass', 'c:\\\\Users\\\\Gani\\\\Desktop\\\\my_projects\\\\Anime_NLP\\\\data\\\\Subtitles\\\\Naruto Season 7 - 165.ass', 'c:\\\\Users\\\\Gani\\\\Desktop\\\\my_projects\\\\Anime_NLP\\\\data\\\\Subtitles\\\\Naruto Season 7 - 166.ass', 'c:\\\\Users\\\\Gani\\\\Desktop\\\\my_projects\\\\Anime_NLP\\\\data\\\\Subtitles\\\\Naruto Season 7 - 167.ass', 'c:\\\\Users\\\\Gani\\\\Desktop\\\\my_projects\\\\Anime_NLP\\\\data\\\\Subtitles\\\\Naruto Season 7 - 168.ass', 'c:\\\\Users\\\\Gani\\\\Desktop\\\\my_projects\\\\Anime_NLP\\\\data\\\\Subtitles\\\\Naruto Season 7 - 169.ass', 'c:\\\\Users\\\\Gani\\\\Desktop\\\\my_projects\\\\Anime_NLP\\\\data\\\\Subtitles\\\\Naruto Season 7 - 170.ass', 'c:\\\\Users\\\\Gani\\\\Desktop\\\\my_projects\\\\Anime_NLP\\\\data\\\\Subtitles\\\\Naruto Season 7 - 171.ass', 'c:\\\\Users\\\\Gani\\\\Desktop\\\\my_projects\\\\Anime_NLP\\\\data\\\\Subtitles\\\\Naruto Season 7 - 172.ass', 'c:\\\\Users\\\\Gani\\\\Desktop\\\\my_projects\\\\Anime_NLP\\\\data\\\\Subtitles\\\\Naruto Season 7 - 173.ass', 'c:\\\\Users\\\\Gani\\\\Desktop\\\\my_projects\\\\Anime_NLP\\\\data\\\\Subtitles\\\\Naruto Season 7 - 174.ass', 'c:\\\\Users\\\\Gani\\\\Desktop\\\\my_projects\\\\Anime_NLP\\\\data\\\\Subtitles\\\\Naruto Season 7 - 175.ass', 'c:\\\\Users\\\\Gani\\\\Desktop\\\\my_projects\\\\Anime_NLP\\\\data\\\\Subtitles\\\\Naruto Season 7 - 176.ass', 'c:\\\\Users\\\\Gani\\\\Desktop\\\\my_projects\\\\Anime_NLP\\\\data\\\\Subtitles\\\\Naruto Season 7 - 177.ass', 'c:\\\\Users\\\\Gani\\\\Desktop\\\\my_projects\\\\Anime_NLP\\\\data\\\\Subtitles\\\\Naruto Season 7 - 178.ass', 'c:\\\\Users\\\\Gani\\\\Desktop\\\\my_projects\\\\Anime_NLP\\\\data\\\\Subtitles\\\\Naruto Season 7 - 179.ass', 'c:\\\\Users\\\\Gani\\\\Desktop\\\\my_projects\\\\Anime_NLP\\\\data\\\\Subtitles\\\\Naruto Season 7 - 180.ass', 'c:\\\\Users\\\\Gani\\\\Desktop\\\\my_projects\\\\Anime_NLP\\\\data\\\\Subtitles\\\\Naruto Season 7 - 181.ass', 'c:\\\\Users\\\\Gani\\\\Desktop\\\\my_projects\\\\Anime_NLP\\\\data\\\\Subtitles\\\\Naruto Season 7 - 182.ass', 'c:\\\\Users\\\\Gani\\\\Desktop\\\\my_projects\\\\Anime_NLP\\\\data\\\\Subtitles\\\\Naruto Season 8 - 183.ass', 'c:\\\\Users\\\\Gani\\\\Desktop\\\\my_projects\\\\Anime_NLP\\\\data\\\\Subtitles\\\\Naruto Season 8 - 184.ass', 'c:\\\\Users\\\\Gani\\\\Desktop\\\\my_projects\\\\Anime_NLP\\\\data\\\\Subtitles\\\\Naruto Season 8 - 185.ass', 'c:\\\\Users\\\\Gani\\\\Desktop\\\\my_projects\\\\Anime_NLP\\\\data\\\\Subtitles\\\\Naruto Season 8 - 186.ass', 'c:\\\\Users\\\\Gani\\\\Desktop\\\\my_projects\\\\Anime_NLP\\\\data\\\\Subtitles\\\\Naruto Season 8 - 187.ass', 'c:\\\\Users\\\\Gani\\\\Desktop\\\\my_projects\\\\Anime_NLP\\\\data\\\\Subtitles\\\\Naruto Season 8 - 188.ass', 'c:\\\\Users\\\\Gani\\\\Desktop\\\\my_projects\\\\Anime_NLP\\\\data\\\\Subtitles\\\\Naruto Season 8 - 189.ass', 'c:\\\\Users\\\\Gani\\\\Desktop\\\\my_projects\\\\Anime_NLP\\\\data\\\\Subtitles\\\\Naruto Season 8 - 190.ass', 'c:\\\\Users\\\\Gani\\\\Desktop\\\\my_projects\\\\Anime_NLP\\\\data\\\\Subtitles\\\\Naruto Season 8 - 191.ass', 'c:\\\\Users\\\\Gani\\\\Desktop\\\\my_projects\\\\Anime_NLP\\\\data\\\\Subtitles\\\\Naruto Season 8 - 192.ass', 'c:\\\\Users\\\\Gani\\\\Desktop\\\\my_projects\\\\Anime_NLP\\\\data\\\\Subtitles\\\\Naruto Season 8 - 193.ass', 'c:\\\\Users\\\\Gani\\\\Desktop\\\\my_projects\\\\Anime_NLP\\\\data\\\\Subtitles\\\\Naruto Season 8 - 194.ass', 'c:\\\\Users\\\\Gani\\\\Desktop\\\\my_projects\\\\Anime_NLP\\\\data\\\\Subtitles\\\\Naruto Season 8 - 195.ass', 'c:\\\\Users\\\\Gani\\\\Desktop\\\\my_projects\\\\Anime_NLP\\\\data\\\\Subtitles\\\\Naruto Season 8 - 196.ass', 'c:\\\\Users\\\\Gani\\\\Desktop\\\\my_projects\\\\Anime_NLP\\\\data\\\\Subtitles\\\\Naruto Season 8 - 197.ass', 'c:\\\\Users\\\\Gani\\\\Desktop\\\\my_projects\\\\Anime_NLP\\\\data\\\\Subtitles\\\\Naruto Season 8 - 198.ass', 'c:\\\\Users\\\\Gani\\\\Desktop\\\\my_projects\\\\Anime_NLP\\\\data\\\\Subtitles\\\\Naruto Season 8 - 199.ass', 'c:\\\\Users\\\\Gani\\\\Desktop\\\\my_projects\\\\Anime_NLP\\\\data\\\\Subtitles\\\\Naruto Season 8 - 200.ass', 'c:\\\\Users\\\\Gani\\\\Desktop\\\\my_projects\\\\Anime_NLP\\\\data\\\\Subtitles\\\\Naruto Season 8 - 201.ass', 'c:\\\\Users\\\\Gani\\\\Desktop\\\\my_projects\\\\Anime_NLP\\\\data\\\\Subtitles\\\\Naruto Season 8 - 202.ass', 'c:\\\\Users\\\\Gani\\\\Desktop\\\\my_projects\\\\Anime_NLP\\\\data\\\\Subtitles\\\\Naruto Season 8 - 203.ass', 'c:\\\\Users\\\\Gani\\\\Desktop\\\\my_projects\\\\Anime_NLP\\\\data\\\\Subtitles\\\\Naruto Season 8 - 204.ass', 'c:\\\\Users\\\\Gani\\\\Desktop\\\\my_projects\\\\Anime_NLP\\\\data\\\\Subtitles\\\\Naruto Season 8 - 205.ass', 'c:\\\\Users\\\\Gani\\\\Desktop\\\\my_projects\\\\Anime_NLP\\\\data\\\\Subtitles\\\\Naruto Season 8 - 206.ass', 'c:\\\\Users\\\\Gani\\\\Desktop\\\\my_projects\\\\Anime_NLP\\\\data\\\\Subtitles\\\\Naruto Season 8 - 207.ass', 'c:\\\\Users\\\\Gani\\\\Desktop\\\\my_projects\\\\Anime_NLP\\\\data\\\\Subtitles\\\\Naruto Season 8 - 208.ass', 'c:\\\\Users\\\\Gani\\\\Desktop\\\\my_projects\\\\Anime_NLP\\\\data\\\\Subtitles\\\\Naruto Season 9 - 209.ass', 'c:\\\\Users\\\\Gani\\\\Desktop\\\\my_projects\\\\Anime_NLP\\\\data\\\\Subtitles\\\\Naruto Season 9 - 210.ass', 'c:\\\\Users\\\\Gani\\\\Desktop\\\\my_projects\\\\Anime_NLP\\\\data\\\\Subtitles\\\\Naruto Season 9 - 211.ass', 'c:\\\\Users\\\\Gani\\\\Desktop\\\\my_projects\\\\Anime_NLP\\\\data\\\\Subtitles\\\\Naruto Season 9 - 212.ass', 'c:\\\\Users\\\\Gani\\\\Desktop\\\\my_projects\\\\Anime_NLP\\\\data\\\\Subtitles\\\\Naruto Season 9 - 213.ass', 'c:\\\\Users\\\\Gani\\\\Desktop\\\\my_projects\\\\Anime_NLP\\\\data\\\\Subtitles\\\\Naruto Season 9 - 214.ass', 'c:\\\\Users\\\\Gani\\\\Desktop\\\\my_projects\\\\Anime_NLP\\\\data\\\\Subtitles\\\\Naruto Season 9 - 215.ass', 'c:\\\\Users\\\\Gani\\\\Desktop\\\\my_projects\\\\Anime_NLP\\\\data\\\\Subtitles\\\\Naruto Season 9 - 216.ass', 'c:\\\\Users\\\\Gani\\\\Desktop\\\\my_projects\\\\Anime_NLP\\\\data\\\\Subtitles\\\\Naruto Season 9 - 217.ass', 'c:\\\\Users\\\\Gani\\\\Desktop\\\\my_projects\\\\Anime_NLP\\\\data\\\\Subtitles\\\\Naruto Season 9 - 218.ass', 'c:\\\\Users\\\\Gani\\\\Desktop\\\\my_projects\\\\Anime_NLP\\\\data\\\\Subtitles\\\\Naruto Season 9 - 219.ass', 'c:\\\\Users\\\\Gani\\\\Desktop\\\\my_projects\\\\Anime_NLP\\\\data\\\\Subtitles\\\\Naruto Season 9 - 220.ass']\n",
      "\n",
      "Файлы с расширением .ASS: ['c:\\\\Users\\\\Gani\\\\Desktop\\\\my_projects\\\\Anime_NLP\\\\data\\\\Subtitles\\\\Naruto Season 1 - 01.ass', 'c:\\\\Users\\\\Gani\\\\Desktop\\\\my_projects\\\\Anime_NLP\\\\data\\\\Subtitles\\\\Naruto Season 1 - 02.ass', 'c:\\\\Users\\\\Gani\\\\Desktop\\\\my_projects\\\\Anime_NLP\\\\data\\\\Subtitles\\\\Naruto Season 1 - 03.ass', 'c:\\\\Users\\\\Gani\\\\Desktop\\\\my_projects\\\\Anime_NLP\\\\data\\\\Subtitles\\\\Naruto Season 1 - 04.ass', 'c:\\\\Users\\\\Gani\\\\Desktop\\\\my_projects\\\\Anime_NLP\\\\data\\\\Subtitles\\\\Naruto Season 1 - 05.ass', 'c:\\\\Users\\\\Gani\\\\Desktop\\\\my_projects\\\\Anime_NLP\\\\data\\\\Subtitles\\\\Naruto Season 1 - 06.ass', 'c:\\\\Users\\\\Gani\\\\Desktop\\\\my_projects\\\\Anime_NLP\\\\data\\\\Subtitles\\\\Naruto Season 1 - 07.ass', 'c:\\\\Users\\\\Gani\\\\Desktop\\\\my_projects\\\\Anime_NLP\\\\data\\\\Subtitles\\\\Naruto Season 1 - 08.ass', 'c:\\\\Users\\\\Gani\\\\Desktop\\\\my_projects\\\\Anime_NLP\\\\data\\\\Subtitles\\\\Naruto Season 1 - 09.ass', 'c:\\\\Users\\\\Gani\\\\Desktop\\\\my_projects\\\\Anime_NLP\\\\data\\\\Subtitles\\\\Naruto Season 1 - 12.ass', 'c:\\\\Users\\\\Gani\\\\Desktop\\\\my_projects\\\\Anime_NLP\\\\data\\\\Subtitles\\\\Naruto Season 1 - 13.ass', 'c:\\\\Users\\\\Gani\\\\Desktop\\\\my_projects\\\\Anime_NLP\\\\data\\\\Subtitles\\\\Naruto Season 1 - 14.ass', 'c:\\\\Users\\\\Gani\\\\Desktop\\\\my_projects\\\\Anime_NLP\\\\data\\\\Subtitles\\\\Naruto Season 1 - 15.ass', 'c:\\\\Users\\\\Gani\\\\Desktop\\\\my_projects\\\\Anime_NLP\\\\data\\\\Subtitles\\\\Naruto Season 1 - 16.ass', 'c:\\\\Users\\\\Gani\\\\Desktop\\\\my_projects\\\\Anime_NLP\\\\data\\\\Subtitles\\\\Naruto Season 1 - 17.ass', 'c:\\\\Users\\\\Gani\\\\Desktop\\\\my_projects\\\\Anime_NLP\\\\data\\\\Subtitles\\\\Naruto Season 1 - 18.ass', 'c:\\\\Users\\\\Gani\\\\Desktop\\\\my_projects\\\\Anime_NLP\\\\data\\\\Subtitles\\\\Naruto Season 1 - 19.ass', 'c:\\\\Users\\\\Gani\\\\Desktop\\\\my_projects\\\\Anime_NLP\\\\data\\\\Subtitles\\\\Naruto Season 1 - 20.ass', 'c:\\\\Users\\\\Gani\\\\Desktop\\\\my_projects\\\\Anime_NLP\\\\data\\\\Subtitles\\\\Naruto Season 1 - 21.ass', 'c:\\\\Users\\\\Gani\\\\Desktop\\\\my_projects\\\\Anime_NLP\\\\data\\\\Subtitles\\\\Naruto Season 1 - 22.ass', 'c:\\\\Users\\\\Gani\\\\Desktop\\\\my_projects\\\\Anime_NLP\\\\data\\\\Subtitles\\\\Naruto Season 1 - 23.ass', 'c:\\\\Users\\\\Gani\\\\Desktop\\\\my_projects\\\\Anime_NLP\\\\data\\\\Subtitles\\\\Naruto Season 1 - 24.ass', 'c:\\\\Users\\\\Gani\\\\Desktop\\\\my_projects\\\\Anime_NLP\\\\data\\\\Subtitles\\\\Naruto Season 1 - 25.ass', 'c:\\\\Users\\\\Gani\\\\Desktop\\\\my_projects\\\\Anime_NLP\\\\data\\\\Subtitles\\\\Naruto Season 1 - 26.ass', 'c:\\\\Users\\\\Gani\\\\Desktop\\\\my_projects\\\\Anime_NLP\\\\data\\\\Subtitles\\\\Naruto Season 2 - 27.ass', 'c:\\\\Users\\\\Gani\\\\Desktop\\\\my_projects\\\\Anime_NLP\\\\data\\\\Subtitles\\\\Naruto Season 2 - 28.ass', 'c:\\\\Users\\\\Gani\\\\Desktop\\\\my_projects\\\\Anime_NLP\\\\data\\\\Subtitles\\\\Naruto Season 2 - 29.ass', 'c:\\\\Users\\\\Gani\\\\Desktop\\\\my_projects\\\\Anime_NLP\\\\data\\\\Subtitles\\\\Naruto Season 2 - 30.ass', 'c:\\\\Users\\\\Gani\\\\Desktop\\\\my_projects\\\\Anime_NLP\\\\data\\\\Subtitles\\\\Naruto Season 2 - 31.ass', 'c:\\\\Users\\\\Gani\\\\Desktop\\\\my_projects\\\\Anime_NLP\\\\data\\\\Subtitles\\\\Naruto Season 2 - 32.ass', 'c:\\\\Users\\\\Gani\\\\Desktop\\\\my_projects\\\\Anime_NLP\\\\data\\\\Subtitles\\\\Naruto Season 2 - 33.ass', 'c:\\\\Users\\\\Gani\\\\Desktop\\\\my_projects\\\\Anime_NLP\\\\data\\\\Subtitles\\\\Naruto Season 2 - 34.ass', 'c:\\\\Users\\\\Gani\\\\Desktop\\\\my_projects\\\\Anime_NLP\\\\data\\\\Subtitles\\\\Naruto Season 2 - 35.ass', 'c:\\\\Users\\\\Gani\\\\Desktop\\\\my_projects\\\\Anime_NLP\\\\data\\\\Subtitles\\\\Naruto Season 2 - 36.ass', 'c:\\\\Users\\\\Gani\\\\Desktop\\\\my_projects\\\\Anime_NLP\\\\data\\\\Subtitles\\\\Naruto Season 2 - 37.ass', 'c:\\\\Users\\\\Gani\\\\Desktop\\\\my_projects\\\\Anime_NLP\\\\data\\\\Subtitles\\\\Naruto Season 2 - 38.ass', 'c:\\\\Users\\\\Gani\\\\Desktop\\\\my_projects\\\\Anime_NLP\\\\data\\\\Subtitles\\\\Naruto Season 2 - 39.ass', 'c:\\\\Users\\\\Gani\\\\Desktop\\\\my_projects\\\\Anime_NLP\\\\data\\\\Subtitles\\\\Naruto Season 2 - 40.ass', 'c:\\\\Users\\\\Gani\\\\Desktop\\\\my_projects\\\\Anime_NLP\\\\data\\\\Subtitles\\\\Naruto Season 2 - 41.ass', 'c:\\\\Users\\\\Gani\\\\Desktop\\\\my_projects\\\\Anime_NLP\\\\data\\\\Subtitles\\\\Naruto Season 2 - 42.ass', 'c:\\\\Users\\\\Gani\\\\Desktop\\\\my_projects\\\\Anime_NLP\\\\data\\\\Subtitles\\\\Naruto Season 2 - 43.ass', 'c:\\\\Users\\\\Gani\\\\Desktop\\\\my_projects\\\\Anime_NLP\\\\data\\\\Subtitles\\\\Naruto Season 2 - 44.ass', 'c:\\\\Users\\\\Gani\\\\Desktop\\\\my_projects\\\\Anime_NLP\\\\data\\\\Subtitles\\\\Naruto Season 2 - 45.ass', 'c:\\\\Users\\\\Gani\\\\Desktop\\\\my_projects\\\\Anime_NLP\\\\data\\\\Subtitles\\\\Naruto Season 2 - 46.ass', 'c:\\\\Users\\\\Gani\\\\Desktop\\\\my_projects\\\\Anime_NLP\\\\data\\\\Subtitles\\\\Naruto Season 2 - 47.ass', 'c:\\\\Users\\\\Gani\\\\Desktop\\\\my_projects\\\\Anime_NLP\\\\data\\\\Subtitles\\\\Naruto Season 2 - 48.ass', 'c:\\\\Users\\\\Gani\\\\Desktop\\\\my_projects\\\\Anime_NLP\\\\data\\\\Subtitles\\\\Naruto Season 2 - 49.ass', 'c:\\\\Users\\\\Gani\\\\Desktop\\\\my_projects\\\\Anime_NLP\\\\data\\\\Subtitles\\\\Naruto Season 2 - 50.ass', 'c:\\\\Users\\\\Gani\\\\Desktop\\\\my_projects\\\\Anime_NLP\\\\data\\\\Subtitles\\\\Naruto Season 2 - 51.ass', 'c:\\\\Users\\\\Gani\\\\Desktop\\\\my_projects\\\\Anime_NLP\\\\data\\\\Subtitles\\\\Naruto Season 2 - 52.ass', 'c:\\\\Users\\\\Gani\\\\Desktop\\\\my_projects\\\\Anime_NLP\\\\data\\\\Subtitles\\\\Naruto Season 3 - 53.ass', 'c:\\\\Users\\\\Gani\\\\Desktop\\\\my_projects\\\\Anime_NLP\\\\data\\\\Subtitles\\\\Naruto Season 3 - 54.ass', 'c:\\\\Users\\\\Gani\\\\Desktop\\\\my_projects\\\\Anime_NLP\\\\data\\\\Subtitles\\\\Naruto Season 3 - 55.ass', 'c:\\\\Users\\\\Gani\\\\Desktop\\\\my_projects\\\\Anime_NLP\\\\data\\\\Subtitles\\\\Naruto Season 3 - 56.ass', 'c:\\\\Users\\\\Gani\\\\Desktop\\\\my_projects\\\\Anime_NLP\\\\data\\\\Subtitles\\\\Naruto Season 3 - 57.ass', 'c:\\\\Users\\\\Gani\\\\Desktop\\\\my_projects\\\\Anime_NLP\\\\data\\\\Subtitles\\\\Naruto Season 3 - 58.ass', 'c:\\\\Users\\\\Gani\\\\Desktop\\\\my_projects\\\\Anime_NLP\\\\data\\\\Subtitles\\\\Naruto Season 3 - 59.ass', 'c:\\\\Users\\\\Gani\\\\Desktop\\\\my_projects\\\\Anime_NLP\\\\data\\\\Subtitles\\\\Naruto Season 3 - 60.ass', 'c:\\\\Users\\\\Gani\\\\Desktop\\\\my_projects\\\\Anime_NLP\\\\data\\\\Subtitles\\\\Naruto Season 3 - 61.ass', 'c:\\\\Users\\\\Gani\\\\Desktop\\\\my_projects\\\\Anime_NLP\\\\data\\\\Subtitles\\\\Naruto Season 3 - 62.ass', 'c:\\\\Users\\\\Gani\\\\Desktop\\\\my_projects\\\\Anime_NLP\\\\data\\\\Subtitles\\\\Naruto Season 3 - 63.ass', 'c:\\\\Users\\\\Gani\\\\Desktop\\\\my_projects\\\\Anime_NLP\\\\data\\\\Subtitles\\\\Naruto Season 3 - 64.ass', 'c:\\\\Users\\\\Gani\\\\Desktop\\\\my_projects\\\\Anime_NLP\\\\data\\\\Subtitles\\\\Naruto Season 3 - 65.ass', 'c:\\\\Users\\\\Gani\\\\Desktop\\\\my_projects\\\\Anime_NLP\\\\data\\\\Subtitles\\\\Naruto Season 3 - 66.ass', 'c:\\\\Users\\\\Gani\\\\Desktop\\\\my_projects\\\\Anime_NLP\\\\data\\\\Subtitles\\\\Naruto Season 3 - 67.ass', 'c:\\\\Users\\\\Gani\\\\Desktop\\\\my_projects\\\\Anime_NLP\\\\data\\\\Subtitles\\\\Naruto Season 3 - 68.ass', 'c:\\\\Users\\\\Gani\\\\Desktop\\\\my_projects\\\\Anime_NLP\\\\data\\\\Subtitles\\\\Naruto Season 3 - 69.ass', 'c:\\\\Users\\\\Gani\\\\Desktop\\\\my_projects\\\\Anime_NLP\\\\data\\\\Subtitles\\\\Naruto Season 3 - 70.ass', 'c:\\\\Users\\\\Gani\\\\Desktop\\\\my_projects\\\\Anime_NLP\\\\data\\\\Subtitles\\\\Naruto Season 3 - 71.ass', 'c:\\\\Users\\\\Gani\\\\Desktop\\\\my_projects\\\\Anime_NLP\\\\data\\\\Subtitles\\\\Naruto Season 3 - 72.ass', 'c:\\\\Users\\\\Gani\\\\Desktop\\\\my_projects\\\\Anime_NLP\\\\data\\\\Subtitles\\\\Naruto Season 3 - 73.ass', 'c:\\\\Users\\\\Gani\\\\Desktop\\\\my_projects\\\\Anime_NLP\\\\data\\\\Subtitles\\\\Naruto Season 3 - 74.ass', 'c:\\\\Users\\\\Gani\\\\Desktop\\\\my_projects\\\\Anime_NLP\\\\data\\\\Subtitles\\\\Naruto Season 3 - 75.ass', 'c:\\\\Users\\\\Gani\\\\Desktop\\\\my_projects\\\\Anime_NLP\\\\data\\\\Subtitles\\\\Naruto Season 3 - 76.ass', 'c:\\\\Users\\\\Gani\\\\Desktop\\\\my_projects\\\\Anime_NLP\\\\data\\\\Subtitles\\\\Naruto Season 3 - 77.ass', 'c:\\\\Users\\\\Gani\\\\Desktop\\\\my_projects\\\\Anime_NLP\\\\data\\\\Subtitles\\\\Naruto Season 3 - 78.ass', 'c:\\\\Users\\\\Gani\\\\Desktop\\\\my_projects\\\\Anime_NLP\\\\data\\\\Subtitles\\\\Naruto Season 4 - 100.ass', 'c:\\\\Users\\\\Gani\\\\Desktop\\\\my_projects\\\\Anime_NLP\\\\data\\\\Subtitles\\\\Naruto Season 4 - 101.ass', 'c:\\\\Users\\\\Gani\\\\Desktop\\\\my_projects\\\\Anime_NLP\\\\data\\\\Subtitles\\\\Naruto Season 4 - 102.ass', 'c:\\\\Users\\\\Gani\\\\Desktop\\\\my_projects\\\\Anime_NLP\\\\data\\\\Subtitles\\\\Naruto Season 4 - 103.ass', 'c:\\\\Users\\\\Gani\\\\Desktop\\\\my_projects\\\\Anime_NLP\\\\data\\\\Subtitles\\\\Naruto Season 4 - 104.ass', 'c:\\\\Users\\\\Gani\\\\Desktop\\\\my_projects\\\\Anime_NLP\\\\data\\\\Subtitles\\\\Naruto Season 4 - 79.ass', 'c:\\\\Users\\\\Gani\\\\Desktop\\\\my_projects\\\\Anime_NLP\\\\data\\\\Subtitles\\\\Naruto Season 4 - 80.ass', 'c:\\\\Users\\\\Gani\\\\Desktop\\\\my_projects\\\\Anime_NLP\\\\data\\\\Subtitles\\\\Naruto Season 4 - 81.ass', 'c:\\\\Users\\\\Gani\\\\Desktop\\\\my_projects\\\\Anime_NLP\\\\data\\\\Subtitles\\\\Naruto Season 4 - 82.ass', 'c:\\\\Users\\\\Gani\\\\Desktop\\\\my_projects\\\\Anime_NLP\\\\data\\\\Subtitles\\\\Naruto Season 4 - 83.ass', 'c:\\\\Users\\\\Gani\\\\Desktop\\\\my_projects\\\\Anime_NLP\\\\data\\\\Subtitles\\\\Naruto Season 4 - 84.ass', 'c:\\\\Users\\\\Gani\\\\Desktop\\\\my_projects\\\\Anime_NLP\\\\data\\\\Subtitles\\\\Naruto Season 4 - 85.ass', 'c:\\\\Users\\\\Gani\\\\Desktop\\\\my_projects\\\\Anime_NLP\\\\data\\\\Subtitles\\\\Naruto Season 4 - 86.ass', 'c:\\\\Users\\\\Gani\\\\Desktop\\\\my_projects\\\\Anime_NLP\\\\data\\\\Subtitles\\\\Naruto Season 4 - 87.ass', 'c:\\\\Users\\\\Gani\\\\Desktop\\\\my_projects\\\\Anime_NLP\\\\data\\\\Subtitles\\\\Naruto Season 4 - 88.ass', 'c:\\\\Users\\\\Gani\\\\Desktop\\\\my_projects\\\\Anime_NLP\\\\data\\\\Subtitles\\\\Naruto Season 4 - 89.ass', 'c:\\\\Users\\\\Gani\\\\Desktop\\\\my_projects\\\\Anime_NLP\\\\data\\\\Subtitles\\\\Naruto Season 4 - 90.ass', 'c:\\\\Users\\\\Gani\\\\Desktop\\\\my_projects\\\\Anime_NLP\\\\data\\\\Subtitles\\\\Naruto Season 4 - 91.ass', 'c:\\\\Users\\\\Gani\\\\Desktop\\\\my_projects\\\\Anime_NLP\\\\data\\\\Subtitles\\\\Naruto Season 4 - 92.ass', 'c:\\\\Users\\\\Gani\\\\Desktop\\\\my_projects\\\\Anime_NLP\\\\data\\\\Subtitles\\\\Naruto Season 4 - 93.ass', 'c:\\\\Users\\\\Gani\\\\Desktop\\\\my_projects\\\\Anime_NLP\\\\data\\\\Subtitles\\\\Naruto Season 4 - 94.ass', 'c:\\\\Users\\\\Gani\\\\Desktop\\\\my_projects\\\\Anime_NLP\\\\data\\\\Subtitles\\\\Naruto Season 4 - 95.ass', 'c:\\\\Users\\\\Gani\\\\Desktop\\\\my_projects\\\\Anime_NLP\\\\data\\\\Subtitles\\\\Naruto Season 4 - 96.ass', 'c:\\\\Users\\\\Gani\\\\Desktop\\\\my_projects\\\\Anime_NLP\\\\data\\\\Subtitles\\\\Naruto Season 4 - 97.ass', 'c:\\\\Users\\\\Gani\\\\Desktop\\\\my_projects\\\\Anime_NLP\\\\data\\\\Subtitles\\\\Naruto Season 4 - 98.ass', 'c:\\\\Users\\\\Gani\\\\Desktop\\\\my_projects\\\\Anime_NLP\\\\data\\\\Subtitles\\\\Naruto Season 4 - 99.ass', 'c:\\\\Users\\\\Gani\\\\Desktop\\\\my_projects\\\\Anime_NLP\\\\data\\\\Subtitles\\\\Naruto Season 5 - 105.ass', 'c:\\\\Users\\\\Gani\\\\Desktop\\\\my_projects\\\\Anime_NLP\\\\data\\\\Subtitles\\\\Naruto Season 5 - 106.ass', 'c:\\\\Users\\\\Gani\\\\Desktop\\\\my_projects\\\\Anime_NLP\\\\data\\\\Subtitles\\\\Naruto Season 5 - 107.ass', 'c:\\\\Users\\\\Gani\\\\Desktop\\\\my_projects\\\\Anime_NLP\\\\data\\\\Subtitles\\\\Naruto Season 5 - 108.ass', 'c:\\\\Users\\\\Gani\\\\Desktop\\\\my_projects\\\\Anime_NLP\\\\data\\\\Subtitles\\\\Naruto Season 5 - 109.ass', 'c:\\\\Users\\\\Gani\\\\Desktop\\\\my_projects\\\\Anime_NLP\\\\data\\\\Subtitles\\\\Naruto Season 5 - 110.ass', 'c:\\\\Users\\\\Gani\\\\Desktop\\\\my_projects\\\\Anime_NLP\\\\data\\\\Subtitles\\\\Naruto Season 5 - 111.ass', 'c:\\\\Users\\\\Gani\\\\Desktop\\\\my_projects\\\\Anime_NLP\\\\data\\\\Subtitles\\\\Naruto Season 5 - 112.ass', 'c:\\\\Users\\\\Gani\\\\Desktop\\\\my_projects\\\\Anime_NLP\\\\data\\\\Subtitles\\\\Naruto Season 5 - 113.ass', 'c:\\\\Users\\\\Gani\\\\Desktop\\\\my_projects\\\\Anime_NLP\\\\data\\\\Subtitles\\\\Naruto Season 5 - 114.ass', 'c:\\\\Users\\\\Gani\\\\Desktop\\\\my_projects\\\\Anime_NLP\\\\data\\\\Subtitles\\\\Naruto Season 5 - 115.ass', 'c:\\\\Users\\\\Gani\\\\Desktop\\\\my_projects\\\\Anime_NLP\\\\data\\\\Subtitles\\\\Naruto Season 5 - 116.ass', 'c:\\\\Users\\\\Gani\\\\Desktop\\\\my_projects\\\\Anime_NLP\\\\data\\\\Subtitles\\\\Naruto Season 5 - 117.ass', 'c:\\\\Users\\\\Gani\\\\Desktop\\\\my_projects\\\\Anime_NLP\\\\data\\\\Subtitles\\\\Naruto Season 5 - 118.ass', 'c:\\\\Users\\\\Gani\\\\Desktop\\\\my_projects\\\\Anime_NLP\\\\data\\\\Subtitles\\\\Naruto Season 5 - 119.ass', 'c:\\\\Users\\\\Gani\\\\Desktop\\\\my_projects\\\\Anime_NLP\\\\data\\\\Subtitles\\\\Naruto Season 5 - 120.ass', 'c:\\\\Users\\\\Gani\\\\Desktop\\\\my_projects\\\\Anime_NLP\\\\data\\\\Subtitles\\\\Naruto Season 5 - 121.ass', 'c:\\\\Users\\\\Gani\\\\Desktop\\\\my_projects\\\\Anime_NLP\\\\data\\\\Subtitles\\\\Naruto Season 5 - 122.ass', 'c:\\\\Users\\\\Gani\\\\Desktop\\\\my_projects\\\\Anime_NLP\\\\data\\\\Subtitles\\\\Naruto Season 5 - 123.ass', 'c:\\\\Users\\\\Gani\\\\Desktop\\\\my_projects\\\\Anime_NLP\\\\data\\\\Subtitles\\\\Naruto Season 5 - 124.ass', 'c:\\\\Users\\\\Gani\\\\Desktop\\\\my_projects\\\\Anime_NLP\\\\data\\\\Subtitles\\\\Naruto Season 5 - 125.ass', 'c:\\\\Users\\\\Gani\\\\Desktop\\\\my_projects\\\\Anime_NLP\\\\data\\\\Subtitles\\\\Naruto Season 5 - 126.ass', 'c:\\\\Users\\\\Gani\\\\Desktop\\\\my_projects\\\\Anime_NLP\\\\data\\\\Subtitles\\\\Naruto Season 5 - 127.ass', 'c:\\\\Users\\\\Gani\\\\Desktop\\\\my_projects\\\\Anime_NLP\\\\data\\\\Subtitles\\\\Naruto Season 5 - 128.ass', 'c:\\\\Users\\\\Gani\\\\Desktop\\\\my_projects\\\\Anime_NLP\\\\data\\\\Subtitles\\\\Naruto Season 5 - 129.ass', 'c:\\\\Users\\\\Gani\\\\Desktop\\\\my_projects\\\\Anime_NLP\\\\data\\\\Subtitles\\\\Naruto Season 5 - 130.ass', 'c:\\\\Users\\\\Gani\\\\Desktop\\\\my_projects\\\\Anime_NLP\\\\data\\\\Subtitles\\\\Naruto Season 6 - 131.ass', 'c:\\\\Users\\\\Gani\\\\Desktop\\\\my_projects\\\\Anime_NLP\\\\data\\\\Subtitles\\\\Naruto Season 6 - 132.ass', 'c:\\\\Users\\\\Gani\\\\Desktop\\\\my_projects\\\\Anime_NLP\\\\data\\\\Subtitles\\\\Naruto Season 6 - 133.ass', 'c:\\\\Users\\\\Gani\\\\Desktop\\\\my_projects\\\\Anime_NLP\\\\data\\\\Subtitles\\\\Naruto Season 6 - 134.ass', 'c:\\\\Users\\\\Gani\\\\Desktop\\\\my_projects\\\\Anime_NLP\\\\data\\\\Subtitles\\\\Naruto Season 6 - 135.ass', 'c:\\\\Users\\\\Gani\\\\Desktop\\\\my_projects\\\\Anime_NLP\\\\data\\\\Subtitles\\\\Naruto Season 6 - 136.ass', 'c:\\\\Users\\\\Gani\\\\Desktop\\\\my_projects\\\\Anime_NLP\\\\data\\\\Subtitles\\\\Naruto Season 6 - 137.ass', 'c:\\\\Users\\\\Gani\\\\Desktop\\\\my_projects\\\\Anime_NLP\\\\data\\\\Subtitles\\\\Naruto Season 6 - 138.ass', 'c:\\\\Users\\\\Gani\\\\Desktop\\\\my_projects\\\\Anime_NLP\\\\data\\\\Subtitles\\\\Naruto Season 6 - 139.ass', 'c:\\\\Users\\\\Gani\\\\Desktop\\\\my_projects\\\\Anime_NLP\\\\data\\\\Subtitles\\\\Naruto Season 6 - 140.ass', 'c:\\\\Users\\\\Gani\\\\Desktop\\\\my_projects\\\\Anime_NLP\\\\data\\\\Subtitles\\\\Naruto Season 6 - 141.ass', 'c:\\\\Users\\\\Gani\\\\Desktop\\\\my_projects\\\\Anime_NLP\\\\data\\\\Subtitles\\\\Naruto Season 6 - 142.ass', 'c:\\\\Users\\\\Gani\\\\Desktop\\\\my_projects\\\\Anime_NLP\\\\data\\\\Subtitles\\\\Naruto Season 6 - 143.ass', 'c:\\\\Users\\\\Gani\\\\Desktop\\\\my_projects\\\\Anime_NLP\\\\data\\\\Subtitles\\\\Naruto Season 6 - 144.ass', 'c:\\\\Users\\\\Gani\\\\Desktop\\\\my_projects\\\\Anime_NLP\\\\data\\\\Subtitles\\\\Naruto Season 6 - 145.ass', 'c:\\\\Users\\\\Gani\\\\Desktop\\\\my_projects\\\\Anime_NLP\\\\data\\\\Subtitles\\\\Naruto Season 6 - 146.ass', 'c:\\\\Users\\\\Gani\\\\Desktop\\\\my_projects\\\\Anime_NLP\\\\data\\\\Subtitles\\\\Naruto Season 6 - 147.ass', 'c:\\\\Users\\\\Gani\\\\Desktop\\\\my_projects\\\\Anime_NLP\\\\data\\\\Subtitles\\\\Naruto Season 6 - 148.ass', 'c:\\\\Users\\\\Gani\\\\Desktop\\\\my_projects\\\\Anime_NLP\\\\data\\\\Subtitles\\\\Naruto Season 6 - 149.ass', 'c:\\\\Users\\\\Gani\\\\Desktop\\\\my_projects\\\\Anime_NLP\\\\data\\\\Subtitles\\\\Naruto Season 6 - 150.ass', 'c:\\\\Users\\\\Gani\\\\Desktop\\\\my_projects\\\\Anime_NLP\\\\data\\\\Subtitles\\\\Naruto Season 6 - 151.ass', 'c:\\\\Users\\\\Gani\\\\Desktop\\\\my_projects\\\\Anime_NLP\\\\data\\\\Subtitles\\\\Naruto Season 6 - 152.ass', 'c:\\\\Users\\\\Gani\\\\Desktop\\\\my_projects\\\\Anime_NLP\\\\data\\\\Subtitles\\\\Naruto Season 6 - 153.ass', 'c:\\\\Users\\\\Gani\\\\Desktop\\\\my_projects\\\\Anime_NLP\\\\data\\\\Subtitles\\\\Naruto Season 6 - 154.ass', 'c:\\\\Users\\\\Gani\\\\Desktop\\\\my_projects\\\\Anime_NLP\\\\data\\\\Subtitles\\\\Naruto Season 6 - 155.ass', 'c:\\\\Users\\\\Gani\\\\Desktop\\\\my_projects\\\\Anime_NLP\\\\data\\\\Subtitles\\\\Naruto Season 6 - 156.ass', 'c:\\\\Users\\\\Gani\\\\Desktop\\\\my_projects\\\\Anime_NLP\\\\data\\\\Subtitles\\\\Naruto Season 7 - 157.ass', 'c:\\\\Users\\\\Gani\\\\Desktop\\\\my_projects\\\\Anime_NLP\\\\data\\\\Subtitles\\\\Naruto Season 7 - 158.ass', 'c:\\\\Users\\\\Gani\\\\Desktop\\\\my_projects\\\\Anime_NLP\\\\data\\\\Subtitles\\\\Naruto Season 7 - 159.ass', 'c:\\\\Users\\\\Gani\\\\Desktop\\\\my_projects\\\\Anime_NLP\\\\data\\\\Subtitles\\\\Naruto Season 7 - 160.ass', 'c:\\\\Users\\\\Gani\\\\Desktop\\\\my_projects\\\\Anime_NLP\\\\data\\\\Subtitles\\\\Naruto Season 7 - 161.ass', 'c:\\\\Users\\\\Gani\\\\Desktop\\\\my_projects\\\\Anime_NLP\\\\data\\\\Subtitles\\\\Naruto Season 7 - 162.ass', 'c:\\\\Users\\\\Gani\\\\Desktop\\\\my_projects\\\\Anime_NLP\\\\data\\\\Subtitles\\\\Naruto Season 7 - 163.ass', 'c:\\\\Users\\\\Gani\\\\Desktop\\\\my_projects\\\\Anime_NLP\\\\data\\\\Subtitles\\\\Naruto Season 7 - 164.ass', 'c:\\\\Users\\\\Gani\\\\Desktop\\\\my_projects\\\\Anime_NLP\\\\data\\\\Subtitles\\\\Naruto Season 7 - 165.ass', 'c:\\\\Users\\\\Gani\\\\Desktop\\\\my_projects\\\\Anime_NLP\\\\data\\\\Subtitles\\\\Naruto Season 7 - 166.ass', 'c:\\\\Users\\\\Gani\\\\Desktop\\\\my_projects\\\\Anime_NLP\\\\data\\\\Subtitles\\\\Naruto Season 7 - 167.ass', 'c:\\\\Users\\\\Gani\\\\Desktop\\\\my_projects\\\\Anime_NLP\\\\data\\\\Subtitles\\\\Naruto Season 7 - 168.ass', 'c:\\\\Users\\\\Gani\\\\Desktop\\\\my_projects\\\\Anime_NLP\\\\data\\\\Subtitles\\\\Naruto Season 7 - 169.ass', 'c:\\\\Users\\\\Gani\\\\Desktop\\\\my_projects\\\\Anime_NLP\\\\data\\\\Subtitles\\\\Naruto Season 7 - 170.ass', 'c:\\\\Users\\\\Gani\\\\Desktop\\\\my_projects\\\\Anime_NLP\\\\data\\\\Subtitles\\\\Naruto Season 7 - 171.ass', 'c:\\\\Users\\\\Gani\\\\Desktop\\\\my_projects\\\\Anime_NLP\\\\data\\\\Subtitles\\\\Naruto Season 7 - 172.ass', 'c:\\\\Users\\\\Gani\\\\Desktop\\\\my_projects\\\\Anime_NLP\\\\data\\\\Subtitles\\\\Naruto Season 7 - 173.ass', 'c:\\\\Users\\\\Gani\\\\Desktop\\\\my_projects\\\\Anime_NLP\\\\data\\\\Subtitles\\\\Naruto Season 7 - 174.ass', 'c:\\\\Users\\\\Gani\\\\Desktop\\\\my_projects\\\\Anime_NLP\\\\data\\\\Subtitles\\\\Naruto Season 7 - 175.ass', 'c:\\\\Users\\\\Gani\\\\Desktop\\\\my_projects\\\\Anime_NLP\\\\data\\\\Subtitles\\\\Naruto Season 7 - 176.ass', 'c:\\\\Users\\\\Gani\\\\Desktop\\\\my_projects\\\\Anime_NLP\\\\data\\\\Subtitles\\\\Naruto Season 7 - 177.ass', 'c:\\\\Users\\\\Gani\\\\Desktop\\\\my_projects\\\\Anime_NLP\\\\data\\\\Subtitles\\\\Naruto Season 7 - 178.ass', 'c:\\\\Users\\\\Gani\\\\Desktop\\\\my_projects\\\\Anime_NLP\\\\data\\\\Subtitles\\\\Naruto Season 7 - 179.ass', 'c:\\\\Users\\\\Gani\\\\Desktop\\\\my_projects\\\\Anime_NLP\\\\data\\\\Subtitles\\\\Naruto Season 7 - 180.ass', 'c:\\\\Users\\\\Gani\\\\Desktop\\\\my_projects\\\\Anime_NLP\\\\data\\\\Subtitles\\\\Naruto Season 7 - 181.ass', 'c:\\\\Users\\\\Gani\\\\Desktop\\\\my_projects\\\\Anime_NLP\\\\data\\\\Subtitles\\\\Naruto Season 7 - 182.ass', 'c:\\\\Users\\\\Gani\\\\Desktop\\\\my_projects\\\\Anime_NLP\\\\data\\\\Subtitles\\\\Naruto Season 8 - 183.ass', 'c:\\\\Users\\\\Gani\\\\Desktop\\\\my_projects\\\\Anime_NLP\\\\data\\\\Subtitles\\\\Naruto Season 8 - 184.ass', 'c:\\\\Users\\\\Gani\\\\Desktop\\\\my_projects\\\\Anime_NLP\\\\data\\\\Subtitles\\\\Naruto Season 8 - 185.ass', 'c:\\\\Users\\\\Gani\\\\Desktop\\\\my_projects\\\\Anime_NLP\\\\data\\\\Subtitles\\\\Naruto Season 8 - 186.ass', 'c:\\\\Users\\\\Gani\\\\Desktop\\\\my_projects\\\\Anime_NLP\\\\data\\\\Subtitles\\\\Naruto Season 8 - 187.ass', 'c:\\\\Users\\\\Gani\\\\Desktop\\\\my_projects\\\\Anime_NLP\\\\data\\\\Subtitles\\\\Naruto Season 8 - 188.ass', 'c:\\\\Users\\\\Gani\\\\Desktop\\\\my_projects\\\\Anime_NLP\\\\data\\\\Subtitles\\\\Naruto Season 8 - 189.ass', 'c:\\\\Users\\\\Gani\\\\Desktop\\\\my_projects\\\\Anime_NLP\\\\data\\\\Subtitles\\\\Naruto Season 8 - 190.ass', 'c:\\\\Users\\\\Gani\\\\Desktop\\\\my_projects\\\\Anime_NLP\\\\data\\\\Subtitles\\\\Naruto Season 8 - 191.ass', 'c:\\\\Users\\\\Gani\\\\Desktop\\\\my_projects\\\\Anime_NLP\\\\data\\\\Subtitles\\\\Naruto Season 8 - 192.ass', 'c:\\\\Users\\\\Gani\\\\Desktop\\\\my_projects\\\\Anime_NLP\\\\data\\\\Subtitles\\\\Naruto Season 8 - 193.ass', 'c:\\\\Users\\\\Gani\\\\Desktop\\\\my_projects\\\\Anime_NLP\\\\data\\\\Subtitles\\\\Naruto Season 8 - 194.ass', 'c:\\\\Users\\\\Gani\\\\Desktop\\\\my_projects\\\\Anime_NLP\\\\data\\\\Subtitles\\\\Naruto Season 8 - 195.ass', 'c:\\\\Users\\\\Gani\\\\Desktop\\\\my_projects\\\\Anime_NLP\\\\data\\\\Subtitles\\\\Naruto Season 8 - 196.ass', 'c:\\\\Users\\\\Gani\\\\Desktop\\\\my_projects\\\\Anime_NLP\\\\data\\\\Subtitles\\\\Naruto Season 8 - 197.ass', 'c:\\\\Users\\\\Gani\\\\Desktop\\\\my_projects\\\\Anime_NLP\\\\data\\\\Subtitles\\\\Naruto Season 8 - 198.ass', 'c:\\\\Users\\\\Gani\\\\Desktop\\\\my_projects\\\\Anime_NLP\\\\data\\\\Subtitles\\\\Naruto Season 8 - 199.ass', 'c:\\\\Users\\\\Gani\\\\Desktop\\\\my_projects\\\\Anime_NLP\\\\data\\\\Subtitles\\\\Naruto Season 8 - 200.ass', 'c:\\\\Users\\\\Gani\\\\Desktop\\\\my_projects\\\\Anime_NLP\\\\data\\\\Subtitles\\\\Naruto Season 8 - 201.ass', 'c:\\\\Users\\\\Gani\\\\Desktop\\\\my_projects\\\\Anime_NLP\\\\data\\\\Subtitles\\\\Naruto Season 8 - 202.ass', 'c:\\\\Users\\\\Gani\\\\Desktop\\\\my_projects\\\\Anime_NLP\\\\data\\\\Subtitles\\\\Naruto Season 8 - 203.ass', 'c:\\\\Users\\\\Gani\\\\Desktop\\\\my_projects\\\\Anime_NLP\\\\data\\\\Subtitles\\\\Naruto Season 8 - 204.ass', 'c:\\\\Users\\\\Gani\\\\Desktop\\\\my_projects\\\\Anime_NLP\\\\data\\\\Subtitles\\\\Naruto Season 8 - 205.ass', 'c:\\\\Users\\\\Gani\\\\Desktop\\\\my_projects\\\\Anime_NLP\\\\data\\\\Subtitles\\\\Naruto Season 8 - 206.ass', 'c:\\\\Users\\\\Gani\\\\Desktop\\\\my_projects\\\\Anime_NLP\\\\data\\\\Subtitles\\\\Naruto Season 8 - 207.ass', 'c:\\\\Users\\\\Gani\\\\Desktop\\\\my_projects\\\\Anime_NLP\\\\data\\\\Subtitles\\\\Naruto Season 8 - 208.ass', 'c:\\\\Users\\\\Gani\\\\Desktop\\\\my_projects\\\\Anime_NLP\\\\data\\\\Subtitles\\\\Naruto Season 9 - 209.ass', 'c:\\\\Users\\\\Gani\\\\Desktop\\\\my_projects\\\\Anime_NLP\\\\data\\\\Subtitles\\\\Naruto Season 9 - 210.ass', 'c:\\\\Users\\\\Gani\\\\Desktop\\\\my_projects\\\\Anime_NLP\\\\data\\\\Subtitles\\\\Naruto Season 9 - 211.ass', 'c:\\\\Users\\\\Gani\\\\Desktop\\\\my_projects\\\\Anime_NLP\\\\data\\\\Subtitles\\\\Naruto Season 9 - 212.ass', 'c:\\\\Users\\\\Gani\\\\Desktop\\\\my_projects\\\\Anime_NLP\\\\data\\\\Subtitles\\\\Naruto Season 9 - 213.ass', 'c:\\\\Users\\\\Gani\\\\Desktop\\\\my_projects\\\\Anime_NLP\\\\data\\\\Subtitles\\\\Naruto Season 9 - 214.ass', 'c:\\\\Users\\\\Gani\\\\Desktop\\\\my_projects\\\\Anime_NLP\\\\data\\\\Subtitles\\\\Naruto Season 9 - 215.ass', 'c:\\\\Users\\\\Gani\\\\Desktop\\\\my_projects\\\\Anime_NLP\\\\data\\\\Subtitles\\\\Naruto Season 9 - 216.ass', 'c:\\\\Users\\\\Gani\\\\Desktop\\\\my_projects\\\\Anime_NLP\\\\data\\\\Subtitles\\\\Naruto Season 9 - 217.ass', 'c:\\\\Users\\\\Gani\\\\Desktop\\\\my_projects\\\\Anime_NLP\\\\data\\\\Subtitles\\\\Naruto Season 9 - 218.ass', 'c:\\\\Users\\\\Gani\\\\Desktop\\\\my_projects\\\\Anime_NLP\\\\data\\\\Subtitles\\\\Naruto Season 9 - 219.ass', 'c:\\\\Users\\\\Gani\\\\Desktop\\\\my_projects\\\\Anime_NLP\\\\data\\\\Subtitles\\\\Naruto Season 9 - 220.ass']\n"
     ]
    }
   ],
   "source": [
    "import os\n",
    "import glob  # Добавляем импорт\n",
    "\n",
    "# Проверяем текущую рабочую директорию\n",
    "print(\"Текущая директория:\", os.getcwd())\n",
    "\n",
    "# Проверяем существование пути\n",
    "path = 'data/Subtitles'\n",
    "print(\"Путь существует:\", os.path.exists(path))\n",
    "\n",
    "# Выведем содержимое директории\n",
    "if os.path.exists(path):\n",
    "    print(\"\\nСодержимое директории:\")\n",
    "    for item in os.listdir(path):\n",
    "        print(item)\n",
    "\n",
    "# Попробуем использовать абсолютный путь\n",
    "files = glob.glob(os.path.join(os.getcwd(), 'data', 'Subtitles', '*.ass'))\n",
    "print(\"\\nНайденные файлы:\", files)\n",
    "\n",
    "# Дополнительная проверка с использованием рекурсивного поиска\n",
    "files_recursive = glob.glob(os.path.join(os.getcwd(), '**', '*.ass'), recursive=True)\n",
    "print(\"\\nФайлы (рекурсивный поиск):\", files_recursive)\n",
    "\n",
    "# Проверка наличия файлов с разными регистрами расширения\n",
    "files_upper = glob.glob(os.path.join(os.getcwd(), 'data', 'Subtitles', '*.ASS'))\n",
    "print(\"\\nФайлы с расширением .ASS:\", files_upper)"
   ]
  },
  {
   "cell_type": "code",
   "execution_count": 63,
   "metadata": {},
   "outputs": [],
   "source": [
    "os.chdir('..')"
   ]
  },
  {
   "cell_type": "code",
   "execution_count": 111,
   "metadata": {},
   "outputs": [],
   "source": [
    "files = glob('data/Subtitles/*.ass')"
   ]
  },
  {
   "cell_type": "code",
   "execution_count": 72,
   "metadata": {},
   "outputs": [
    {
     "data": {
      "text/plain": [
       "['data/Subtitles\\\\Naruto Season 1 - 01.ass',\n",
       " 'data/Subtitles\\\\Naruto Season 1 - 02.ass',\n",
       " 'data/Subtitles\\\\Naruto Season 1 - 03.ass',\n",
       " 'data/Subtitles\\\\Naruto Season 1 - 04.ass',\n",
       " 'data/Subtitles\\\\Naruto Season 1 - 05.ass']"
      ]
     },
     "execution_count": 72,
     "metadata": {},
     "output_type": "execute_result"
    }
   ],
   "source": [
    "files[:5]"
   ]
  },
  {
   "cell_type": "code",
   "execution_count": 76,
   "metadata": {},
   "outputs": [],
   "source": [
    "with open(files[0], 'r') as file:\n",
    "    lines = file.readlines()\n",
    "    lines = lines[27:]\n",
    "    lines = [\",\".join(line.split(',')[9:]) for line in lines]\n",
    "    "
   ]
  },
  {
   "cell_type": "code",
   "execution_count": 89,
   "metadata": {},
   "outputs": [
    {
     "data": {
      "text/plain": [
       "['A long time ago, a powerful demon fox appeared with nine tails.\\n',\n",
       " 'With its powerful tails,\\n']"
      ]
     },
     "execution_count": 89,
     "metadata": {},
     "output_type": "execute_result"
    }
   ],
   "source": [
    "lines[:2]"
   ]
  },
  {
   "cell_type": "code",
   "execution_count": 86,
   "metadata": {},
   "outputs": [],
   "source": [
    "lines = [line.replace('\\\\N', ' ') for line in lines]"
   ]
  },
  {
   "cell_type": "code",
   "execution_count": 88,
   "metadata": {},
   "outputs": [
    {
     "data": {
      "text/plain": [
       "\"A long time ago, a powerful demon fox appeared with nine tails.\\n With its powerful tails,\\n it could smash mountains and create tidal waves.\\n A band of Ninjas rose to defend their village from attack.\\n We have to wait until the Fourth Hokage gets here!\\n We can't let it get any closer to our village!\\n One great Ninja was able to imprison the monster,\\n but died in the process.\\n This Ninja was known as… the Fourth Hokage.\\n Naruto!\\n\""
      ]
     },
     "execution_count": 88,
     "metadata": {},
     "output_type": "execute_result"
    }
   ],
   "source": [
    "\" \".join(lines[:10])"
   ]
  },
  {
   "cell_type": "code",
   "execution_count": 103,
   "metadata": {},
   "outputs": [
    {
     "data": {
      "text/plain": [
       "'data/Subtitles\\\\Naruto Season 1 - 01.ass'"
      ]
     },
     "execution_count": 103,
     "metadata": {},
     "output_type": "execute_result"
    }
   ],
   "source": [
    "files[0]"
   ]
  },
  {
   "cell_type": "code",
   "execution_count": 110,
   "metadata": {},
   "outputs": [
    {
     "data": {
      "text/plain": [
       "1"
      ]
     },
     "execution_count": 110,
     "metadata": {},
     "output_type": "execute_result"
    }
   ],
   "source": [
    "int(files[0].split('-')[-1].split('.')[0].strip())"
   ]
  },
  {
   "cell_type": "code",
   "execution_count": null,
   "metadata": {},
   "outputs": [],
   "source": [
    "files = glob('data/Subtitles/*.ass')"
   ]
  },
  {
   "cell_type": "code",
   "execution_count": 114,
   "metadata": {},
   "outputs": [],
   "source": [
    "def load_subtitles_dataset(dataset_path):\n",
    "    subtitles_paths = glob(dataset_path+'/*.ass')\n",
    "    \n",
    "    scripts = []\n",
    "    episodes_num = []\n",
    "    \n",
    "    for path in subtitles_paths: \n",
    "        #read lines\n",
    "        with open(files[0], 'r') as file:\n",
    "            lines = file.readlines()\n",
    "            lines = lines[27:]\n",
    "            lines = [\",\".join(line.split(',')[9:]) for line in lines]\n",
    "        lines = [line.replace('\\\\N', ' ') for line in lines]\n",
    "        script = \" \".join(lines)\n",
    "        \n",
    "        episode = int(path.split('-')[-1].split('.')[0].strip())\n",
    "        scripts.append(script)\n",
    "        episodes_num.append(episode)\n",
    "    \n",
    "    df = pd.DataFrame.from_dict({\"episode\" : episodes_num, \"script\": scripts})      \n",
    "    return df "
   ]
  },
  {
   "cell_type": "code",
   "execution_count": 115,
   "metadata": {},
   "outputs": [],
   "source": [
    "dataset_path = \"data/Subtitles\"\n",
    "df = load_subtitles_dataset(dataset_path)"
   ]
  },
  {
   "cell_type": "code",
   "execution_count": 120,
   "metadata": {},
   "outputs": [
    {
     "data": {
      "text/html": [
       "<div>\n",
       "<style scoped>\n",
       "    .dataframe tbody tr th:only-of-type {\n",
       "        vertical-align: middle;\n",
       "    }\n",
       "\n",
       "    .dataframe tbody tr th {\n",
       "        vertical-align: top;\n",
       "    }\n",
       "\n",
       "    .dataframe thead th {\n",
       "        text-align: right;\n",
       "    }\n",
       "</style>\n",
       "<table border=\"1\" class=\"dataframe\">\n",
       "  <thead>\n",
       "    <tr style=\"text-align: right;\">\n",
       "      <th></th>\n",
       "      <th>episode</th>\n",
       "      <th>script</th>\n",
       "    </tr>\n",
       "  </thead>\n",
       "  <tbody>\n",
       "    <tr>\n",
       "      <th>0</th>\n",
       "      <td>1</td>\n",
       "      <td>A long time ago, a powerful demon fox appeared...</td>\n",
       "    </tr>\n",
       "    <tr>\n",
       "      <th>1</th>\n",
       "      <td>2</td>\n",
       "      <td>A long time ago, a powerful demon fox appeared...</td>\n",
       "    </tr>\n",
       "    <tr>\n",
       "      <th>2</th>\n",
       "      <td>3</td>\n",
       "      <td>A long time ago, a powerful demon fox appeared...</td>\n",
       "    </tr>\n",
       "    <tr>\n",
       "      <th>3</th>\n",
       "      <td>4</td>\n",
       "      <td>A long time ago, a powerful demon fox appeared...</td>\n",
       "    </tr>\n",
       "    <tr>\n",
       "      <th>4</th>\n",
       "      <td>5</td>\n",
       "      <td>A long time ago, a powerful demon fox appeared...</td>\n",
       "    </tr>\n",
       "  </tbody>\n",
       "</table>\n",
       "</div>"
      ],
      "text/plain": [
       "   episode                                             script\n",
       "0        1  A long time ago, a powerful demon fox appeared...\n",
       "1        2  A long time ago, a powerful demon fox appeared...\n",
       "2        3  A long time ago, a powerful demon fox appeared...\n",
       "3        4  A long time ago, a powerful demon fox appeared...\n",
       "4        5  A long time ago, a powerful demon fox appeared..."
      ]
     },
     "execution_count": 120,
     "metadata": {},
     "output_type": "execute_result"
    }
   ],
   "source": [
    "df.head()"
   ]
  },
  {
   "cell_type": "code",
   "execution_count": 121,
   "metadata": {},
   "outputs": [
    {
     "data": {
      "text/plain": [
       "<bound method NDFrame.describe of      episode                                             script\n",
       "0          1  A long time ago, a powerful demon fox appeared...\n",
       "1          2  A long time ago, a powerful demon fox appeared...\n",
       "2          3  A long time ago, a powerful demon fox appeared...\n",
       "3          4  A long time ago, a powerful demon fox appeared...\n",
       "4          5  A long time ago, a powerful demon fox appeared...\n",
       "..       ...                                                ...\n",
       "213      216  A long time ago, a powerful demon fox appeared...\n",
       "214      217  A long time ago, a powerful demon fox appeared...\n",
       "215      218  A long time ago, a powerful demon fox appeared...\n",
       "216      219  A long time ago, a powerful demon fox appeared...\n",
       "217      220  A long time ago, a powerful demon fox appeared...\n",
       "\n",
       "[218 rows x 2 columns]>"
      ]
     },
     "execution_count": 121,
     "metadata": {},
     "output_type": "execute_result"
    }
   ],
   "source": [
    "df.describe"
   ]
  },
  {
   "cell_type": "code",
   "execution_count": null,
   "metadata": {},
   "outputs": [],
   "source": []
  }
 ],
 "metadata": {
  "kernelspec": {
   "display_name": "nlp_anime",
   "language": "python",
   "name": "python3"
  },
  "language_info": {
   "codemirror_mode": {
    "name": "ipython",
    "version": 3
   },
   "file_extension": ".py",
   "mimetype": "text/x-python",
   "name": "python",
   "nbconvert_exporter": "python",
   "pygments_lexer": "ipython3",
   "version": "3.11.11"
  }
 },
 "nbformat": 4,
 "nbformat_minor": 2
}
