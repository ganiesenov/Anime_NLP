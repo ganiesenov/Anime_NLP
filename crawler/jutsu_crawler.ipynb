{
 "cells": [
  {
   "cell_type": "code",
   "execution_count": null,
   "metadata": {},
   "outputs": [],
   "source": [
    "import scrapy\n",
    "\n",
    "from bs4 import BeautifulSoup\n",
    "class BlogSpider(scrapy.Spider):\n",
    "    name = 'narutospider'\n",
    "    start_urls = ['https://naruto.fandom.com/wiki/Special:BrowseData/Jutsu?limit=250&offset=0&_cat=Jutsu']\n",
    "\n",
    "    def parse(self, response):\n",
    "        for href in response.css('.smw-columnlist-container')[0].css('a:attr(href)').extract():\n",
    "            extracted_data = scrapy.Request(\"https://naruto.fandom.com\"+href, \n",
    "                           callback=self.parse_jutsu)\n",
    "            yield extracted_data\n",
    "\n",
    "        for next_page in response.css('a.mw-nextlink'):\n",
    "            yield response.follow(next_page, self.parse)\n",
    "    \n",
    "    def parse_jutsu(self, response):\n",
    "        jutsu_name = response.css('span.mw-page-title-main::text').extract()[0]\n",
    "        jutsu_name = jutsu_name.strip()\n",
    "        \n",
    "        div_selector = response.css(\"div.mw-parser-output\")[0]\n",
    "        div_html = div_selector.extract()\n",
    "\n",
    "        soup = BeautifulSoup(div_html).find('div')\n",
    "        jutsu_type = \"\"\n",
    "        if soup.find('aside'): \n",
    "            aside = soup.find('aside')\n",
    "            \n",
    "            for cell in aside.findall('div', {'class': 'pi-data'}): \n",
    "                if cell.find('h3'):\n",
    "                    cell_name = cell.find('h3').text.strip()\n",
    "                    if cell_name == 'Classification':\n",
    "                        jutsu_type = cell.find('div').text.strip()\n",
    "        \n",
    "        \n",
    "        soup.find('aside').decompose()\n",
    "        \n",
    "        jutsu_description = soup.text.strip()\n",
    "        jutsu_description = jutsu_description.split('Trivia')[0].strip()\n",
    "        \n",
    "        return dict (\n",
    "            jutsu_name = jutsu_name,\n",
    "            jutsu_type = jutsu_type,\n",
    "            jutsu_description = jutsu_description\n",
    "        )\n",
    "    \n",
    "        "
   ]
  },
  {
   "cell_type": "code",
   "execution_count": null,
   "metadata": {},
   "outputs": [],
   "source": [
    "##"
   ]
  },
  {
   "cell_type": "code",
   "execution_count": null,
   "metadata": {},
   "outputs": [],
   "source": []
  }
 ],
 "metadata": {
  "kernelspec": {
   "display_name": "conda-python",
   "language": "python",
   "name": "python3"
  },
  "language_info": {
   "codemirror_mode": {
    "name": "ipython",
    "version": 3
   },
   "file_extension": ".py",
   "mimetype": "text/x-python",
   "name": "python",
   "nbconvert_exporter": "python",
   "pygments_lexer": "ipython3",
   "version": "3.11.8"
  }
 },
 "nbformat": 4,
 "nbformat_minor": 2
}
